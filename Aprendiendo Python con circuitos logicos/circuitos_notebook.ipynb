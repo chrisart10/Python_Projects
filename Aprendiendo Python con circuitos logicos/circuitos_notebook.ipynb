{
 "cells": [
  {
   "cell_type": "markdown",
   "metadata": {},
   "source": [
    "# Proyecto: Aprendiendo Python con circuitos digitales"
   ]
  },
  {
   "cell_type": "markdown",
   "metadata": {},
   "source": [
    "## Objetivo:\n",
    "<font size=\"3\">El proyecto consiste en modelar un semáforo para control del tráfico de vehículos. Las luces de cada lado del semáforo permanecen encendidas por periodos proporcionales a 3, 1, 3 y 1 para los cuatro estados indicados en la figura.<br>\n",
    "<img src=\"luces.png\"><br>\n",
    "El prototipo visualiza los estados de las luces mediante tablas y cronogramas, y utiliza modelos funcionales y estructurales de circuitos digitales. Al completar este proyecto podrás comenzar a modelar entidades y procesos del mundo real aplicando la programación orientada a objetos en Python.</font>\n",
    "<a id='inicio'></a>"
   ]
  },
  {
   "cell_type": "markdown",
   "metadata": {},
   "source": [
    "<font size=\"3\">Tarea</font> | <font size=\"3\">Título</font> | <font size=\"3\">Objetivo</font>\n",
    ":-----: | ------- | -------\n",
    "<font size=\"3\">[1](#tarea1)</font> | <font size=\"3\">**Explorando operaciones lógicas**</font>| <font size=\"3\">Mostrar tablas de operaciones lógicas.</font>\n",
    "<font size=\"3\">[2](#tarea2)</font> | <font size=\"3\">**Modelando puertas lógicas**</font> | <font size=\"3\">Crear modelos de puertas lógicas.</font>\n",
    "<font size=\"3\">[3](#tarea3)</font> | <font size=\"3\">**Simulando circuitos lógicos**</font> | <font size=\"3\">Crear un modelo de simulación.</font>\n",
    "<font size=\"3\">[4](#tarea4)</font> | <font size=\"3\">**Creando un cronograma de señales digitales**</font> | <font size=\"3\">Mostrar datos gráficamente.</font>\n",
    "<font size=\"3\">[5](#tarea5)</font> | <font size=\"3\">**Creando modelos de circuitos digitales**</font> | <font size=\"3\">Crear modelos estructurales y funcionales de circuitos digitales.</font>\n",
    "<font size=\"3\">[6](#tarea6)</font> | <font size=\"3\">**Modelando un contador**</font> | <font size=\"3\">Verificar y simular modelos de circuitos digitales.</font>\n",
    "<font size=\"3\">[7](#tarea7)</font> | <font size=\"3\">**Modelando un semáforo**</font> | <font size=\"3\">Crear, verificar y simular modelos digitales de un semáforo.</font>\n",
    "<font size=\"3\">[8](#tarea8)</font> | <font size=\"3\">**Creando una biblioteca de modelos digitales**</font> | <font size=\"3\">Crear un módulo para reutilizar funciones y clases.</font>"
   ]
  },
  {
   "cell_type": "markdown",
   "metadata": {},
   "source": [
    "<img src=\"linea.png\"><br>\n",
    "<a id='tarea1'></a>\n",
    "# [Tarea 1](#inicio)\n",
    "# Explorando operaciones lógicas\n",
    "<img src=\"linea.png\"><br>"
   ]
  },
  {
   "cell_type": "markdown",
   "metadata": {},
   "source": [
    "## 1.1 Mostrando datos"
   ]
  },
  {
   "cell_type": "markdown",
   "metadata": {},
   "source": [
    "### La función print"
   ]
  },
  {
   "cell_type": "code",
   "execution_count": 83,
   "metadata": {},
   "outputs": [
    {
     "name": "stdout",
     "output_type": "stream",
     "text": [
      "Escucho, olvido. Veo, recuerdo. Hago, entonces entiendo. Confucio.\n"
     ]
    }
   ],
   "source": [
    "print(\"Escucho, olvido. Veo, recuerdo. Hago, entonces entiendo. Confucio.\")"
   ]
  },
  {
   "cell_type": "markdown",
   "metadata": {},
   "source": [
    "### Objetos de textos"
   ]
  },
  {
   "cell_type": "code",
   "execution_count": 84,
   "metadata": {
    "scrolled": true
   },
   "outputs": [],
   "source": [
    "mensaje = \"Los operadores lógicos son and, or y not.\""
   ]
  },
  {
   "cell_type": "markdown",
   "metadata": {},
   "source": [
    "### El método format"
   ]
  },
  {
   "cell_type": "code",
   "execution_count": 85,
   "metadata": {
    "scrolled": true
   },
   "outputs": [
    {
     "name": "stdout",
     "output_type": "stream",
     "text": [
      "Los circuitos lógicos procesan bits: 0 y 1.\n"
     ]
    }
   ],
   "source": [
    "mensaje = \"Los circuitos lógicos procesan bits: {} y {}.\".format(0, 1)\n",
    "print(mensaje)"
   ]
  },
  {
   "cell_type": "markdown",
   "metadata": {},
   "source": [
    "## 1.2 Objetos lógicos y objetos enteros"
   ]
  },
  {
   "cell_type": "markdown",
   "metadata": {},
   "source": [
    "### Asignaciones"
   ]
  },
  {
   "cell_type": "code",
   "execution_count": 86,
   "metadata": {},
   "outputs": [
    {
     "name": "stdout",
     "output_type": "stream",
     "text": [
      "False True 1 0\n"
     ]
    }
   ],
   "source": [
    "falso = False\n",
    "verdadero = True\n",
    "uno = 1\n",
    "cero = 0\n",
    "print(falso, verdadero, uno, cero)"
   ]
  },
  {
   "cell_type": "markdown",
   "metadata": {},
   "source": [
    "### Comparaciones"
   ]
  },
  {
   "cell_type": "code",
   "execution_count": 87,
   "metadata": {},
   "outputs": [
    {
     "data": {
      "text/plain": [
       "True"
      ]
     },
     "execution_count": 87,
     "metadata": {},
     "output_type": "execute_result"
    }
   ],
   "source": [
    "0 == False"
   ]
  },
  {
   "cell_type": "code",
   "execution_count": 88,
   "metadata": {},
   "outputs": [
    {
     "data": {
      "text/plain": [
       "True"
      ]
     },
     "execution_count": 88,
     "metadata": {},
     "output_type": "execute_result"
    }
   ],
   "source": [
    "1 == True"
   ]
  },
  {
   "cell_type": "code",
   "execution_count": 89,
   "metadata": {},
   "outputs": [
    {
     "data": {
      "text/plain": [
       "False"
      ]
     },
     "execution_count": 89,
     "metadata": {},
     "output_type": "execute_result"
    }
   ],
   "source": [
    "4 == 8"
   ]
  },
  {
   "cell_type": "markdown",
   "metadata": {},
   "source": [
    "### Expresiones lógicas"
   ]
  },
  {
   "cell_type": "code",
   "execution_count": 90,
   "metadata": {},
   "outputs": [
    {
     "name": "stdout",
     "output_type": "stream",
     "text": [
      "True False False True\n"
     ]
    }
   ],
   "source": [
    "a = True\n",
    "b = not a\n",
    "c = a and b\n",
    "d = a or b\n",
    "print(a, b, c, d)"
   ]
  },
  {
   "cell_type": "markdown",
   "metadata": {},
   "source": [
    "### Tablas lógicas"
   ]
  },
  {
   "cell_type": "code",
   "execution_count": 91,
   "metadata": {},
   "outputs": [
    {
     "name": "stdout",
     "output_type": "stream",
     "text": [
      "a b  a and b  a or b  not a\n",
      "0 0     0       0      True\n",
      "0 1     0       1      True\n",
      "1 0     0       1      False\n",
      "1 1     1       1      False\n"
     ]
    }
   ],
   "source": [
    "print(\"a b  a and b  a or b  not a\")\n",
    "print(\"{} {}     {}       {}      {}\".format(0, 0, 0 and 0, 0 or 0, not 0))\n",
    "print(\"{} {}     {}       {}      {}\".format(0, 1, 0 and 1, 0 or 1, not 0))\n",
    "print(\"{} {}     {}       {}      {}\".format(1, 0, 1 and 0, 1 or 0, not 1))\n",
    "print(\"{} {}     {}       {}      {}\".format(1, 1, 1 and 1, 1 or 1, not 1))"
   ]
  },
  {
   "cell_type": "markdown",
   "metadata": {},
   "source": [
    "### El método int"
   ]
  },
  {
   "cell_type": "code",
   "execution_count": 92,
   "metadata": {},
   "outputs": [
    {
     "data": {
      "text/plain": [
       "(0, 1)"
      ]
     },
     "execution_count": 92,
     "metadata": {},
     "output_type": "execute_result"
    }
   ],
   "source": [
    "int(False), int(True)"
   ]
  },
  {
   "cell_type": "markdown",
   "metadata": {},
   "source": [
    "## 1.3 Creando funciones y clases"
   ]
  },
  {
   "cell_type": "markdown",
   "metadata": {},
   "source": [
    "### Función tablas"
   ]
  },
  {
   "cell_type": "code",
   "execution_count": 93,
   "metadata": {},
   "outputs": [],
   "source": [
    "def tablas():\n",
    "    \"\"\"\n",
    "    Muestra las tablas lógicas AND y OR de dos variables\n",
    "    y la operación NOT de una variable.\n",
    "    Los valores son 0 para verdadero y 1 para falso.\n",
    "    \"\"\"\n",
    "    \n",
    "    # título de la tabla\n",
    "    print(\"a b  a and b  a or b  not a\")\n",
    "    \n",
    "    # muestra cuatro combinaciones de ceros y unos\n",
    "    # y el resultado de la operación and\n",
    "    print(\"{} {}     {}       {}       {}\".format(0, 0, 0 and 0, 0 or 0, int(not 0)))\n",
    "    print(\"{} {}     {}       {}       {}\".format(0, 1, 0 and 1, 0 or 1, int(not 0)))\n",
    "    print(\"{} {}     {}       {}       {}\".format(1, 0, 1 and 0, 1 or 0, int(not 1)))\n",
    "    print(\"{} {}     {}       {}       {}\".format(1, 1, 1 and 1, 1 or 1, int(not 1)))"
   ]
  },
  {
   "cell_type": "code",
   "execution_count": 94,
   "metadata": {},
   "outputs": [
    {
     "name": "stdout",
     "output_type": "stream",
     "text": [
      "a b  a and b  a or b  not a\n",
      "0 0     0       0       1\n",
      "0 1     0       1       1\n",
      "1 0     0       1       0\n",
      "1 1     1       1       0\n"
     ]
    }
   ],
   "source": [
    "tablas()"
   ]
  },
  {
   "cell_type": "markdown",
   "metadata": {},
   "source": [
    "### Clase TablaLogica"
   ]
  },
  {
   "cell_type": "code",
   "execution_count": 95,
   "metadata": {},
   "outputs": [],
   "source": [
    "class TablaLogica:\n",
    "    \"\"\"Clase con un método para mostrar tablas lógicas AND, OR y NOT.\"\"\"\n",
    "    \n",
    "    def tabla(self):\n",
    "        \"\"\"\n",
    "        Muestra las tablas lógicas AND y OR de dos variables,\n",
    "        y la tabla NOT de una variable.\n",
    "        Los valores son 0 para verdadero y 1 para falso.\n",
    "        \"\"\"\n",
    "        # muestra un título\n",
    "        print(\"a b  a and b  a or b  not a\")\n",
    "\n",
    "        # muestra las operaciones lógicas para todas las combinaciones\n",
    "        # de valores de ceros y unos.\n",
    "        print(\"{} {}     {}       {}       {}\".format(0, 0, 0 and 0, 0 or 0, int(not 0)))\n",
    "        print(\"{} {}     {}       {}       {}\".format(0, 1, 0 and 1, 0 or 1, int(not 0)))\n",
    "        print(\"{} {}     {}       {}       {}\".format(1, 0, 1 and 0, 1 or 0, int(not 1)))\n",
    "        print(\"{} {}     {}       {}       {}\".format(1, 1, 1 and 1, 1 or 1, int(not 1)))"
   ]
  },
  {
   "cell_type": "code",
   "execution_count": 96,
   "metadata": {},
   "outputs": [
    {
     "name": "stdout",
     "output_type": "stream",
     "text": [
      "a b  a and b  a or b  not a\n",
      "0 0     0       0       1\n",
      "0 1     0       1       1\n",
      "1 0     0       1       0\n",
      "1 1     1       1       0\n"
     ]
    }
   ],
   "source": [
    "x = TablaLogica()\n",
    "x.tabla()"
   ]
  },
  {
   "cell_type": "markdown",
   "metadata": {},
   "source": [
    "## 1.4 Consiguiendo información"
   ]
  },
  {
   "cell_type": "markdown",
   "metadata": {},
   "source": [
    "### La función help"
   ]
  },
  {
   "cell_type": "code",
   "execution_count": 97,
   "metadata": {},
   "outputs": [
    {
     "name": "stdout",
     "output_type": "stream",
     "text": [
      "Help on built-in function print in module builtins:\n",
      "\n",
      "print(...)\n",
      "    print(value, ..., sep=' ', end='\\n', file=sys.stdout, flush=False)\n",
      "    \n",
      "    Prints the values to a stream, or to sys.stdout by default.\n",
      "    Optional keyword arguments:\n",
      "    file:  a file-like object (stream); defaults to the current sys.stdout.\n",
      "    sep:   string inserted between values, default a space.\n",
      "    end:   string appended after the last value, default a newline.\n",
      "    flush: whether to forcibly flush the stream.\n",
      "\n"
     ]
    }
   ],
   "source": [
    "help(print)"
   ]
  },
  {
   "cell_type": "code",
   "execution_count": 98,
   "metadata": {},
   "outputs": [
    {
     "name": "stdout",
     "output_type": "stream",
     "text": [
      "Help on function tablas in module __main__:\n",
      "\n",
      "tablas()\n",
      "    Muestra las tablas lógicas AND y OR de dos variables\n",
      "    y la operación NOT de una variable.\n",
      "    Los valores son 0 para verdadero y 1 para falso.\n",
      "\n"
     ]
    }
   ],
   "source": [
    "help(tablas)"
   ]
  },
  {
   "cell_type": "code",
   "execution_count": 99,
   "metadata": {},
   "outputs": [
    {
     "name": "stdout",
     "output_type": "stream",
     "text": [
      "Help on class TablaLogica in module __main__:\n",
      "\n",
      "class TablaLogica(builtins.object)\n",
      " |  Clase con un método para mostrar tablas lógicas AND, OR y NOT.\n",
      " |  \n",
      " |  Methods defined here:\n",
      " |  \n",
      " |  tabla(self)\n",
      " |      Muestra las tablas lógicas AND y OR de dos variables,\n",
      " |      y la tabla NOT de una variable.\n",
      " |      Los valores son 0 para verdadero y 1 para falso.\n",
      " |  \n",
      " |  ----------------------------------------------------------------------\n",
      " |  Data descriptors defined here:\n",
      " |  \n",
      " |  __dict__\n",
      " |      dictionary for instance variables (if defined)\n",
      " |  \n",
      " |  __weakref__\n",
      " |      list of weak references to the object (if defined)\n",
      "\n"
     ]
    }
   ],
   "source": [
    "help(TablaLogica)"
   ]
  },
  {
   "cell_type": "markdown",
   "metadata": {},
   "source": [
    "<img src=\"linea.png\"><br>\n",
    "<a id='tarea2'></a>\n",
    "# [Tarea 2](#inicio)\n",
    "# Modelando puertas lógicas\n",
    "<img src=\"linea.png\"><br>"
   ]
  },
  {
   "cell_type": "markdown",
   "metadata": {},
   "source": [
    "## 2.1 Puertas lógicas"
   ]
  },
  {
   "cell_type": "markdown",
   "metadata": {},
   "source": [
    "### La puerta AND\n",
    "<img src=\"and.png\">"
   ]
  },
  {
   "cell_type": "code",
   "execution_count": 110,
   "metadata": {},
   "outputs": [],
   "source": [
    "class And:\n",
    "    def __init__(self):\n",
    "        self.a = 0\n",
    "        self.b = 0\n",
    "        self.s = 0\n",
    "\n",
    "    def entradas(self, a, b):\n",
    "        self.a = a\n",
    "        self.b = b\n",
    "        self.calcula()\n",
    "        \n",
    "    def calcula(self):\n",
    "        self.s = self.a and self.b\n",
    "\n",
    "    def salida(self):\n",
    "        return self.s"
   ]
  },
  {
   "cell_type": "code",
   "execution_count": 111,
   "metadata": {},
   "outputs": [
    {
     "data": {
      "text/plain": [
       "0"
      ]
     },
     "execution_count": 111,
     "metadata": {},
     "output_type": "execute_result"
    }
   ],
   "source": [
    "x = And()           # x es un objeto And\n",
    "x.entradas(0, 0)    # x ejecuta su método entradas con los datos 0 y 0\n",
    "x.salida()          # x ejecuta su método salida para retornar el resultado"
   ]
  },
  {
   "cell_type": "code",
   "execution_count": 112,
   "metadata": {},
   "outputs": [
    {
     "name": "stdout",
     "output_type": "stream",
     "text": [
      "a b  a and b\n",
      "0 0     0\n",
      "0 1     0\n",
      "1 0     0\n",
      "1 1     1\n"
     ]
    }
   ],
   "source": [
    "print(\"a b  a and b\")\n",
    "\n",
    "x.entradas(0, 0)\n",
    "print(0, 0, \"   \", x.salida())\n",
    "\n",
    "x.entradas(0, 1)\n",
    "print(0, 1, \"   \", x.salida())\n",
    "\n",
    "x.entradas(1, 0)\n",
    "print(1, 0, \"   \", x.salida())\n",
    "\n",
    "x.entradas(1, 1)\n",
    "print(1, 1, \"   \", x.salida())"
   ]
  },
  {
   "cell_type": "markdown",
   "metadata": {},
   "source": [
    "### La puerta OR\n",
    "<img src=\"or.png\">"
   ]
  },
  {
   "cell_type": "code",
   "execution_count": 113,
   "metadata": {},
   "outputs": [],
   "source": [
    "class Or:\n",
    "    def __init__(self):\n",
    "        self.a = 0\n",
    "        self.b = 0\n",
    "        self.s = 0\n",
    "\n",
    "    def entradas(self, a, b):\n",
    "        self.a = a\n",
    "        self.b = b\n",
    "        self.calcula()\n",
    "        \n",
    "    def calcula(self):\n",
    "        self.s = self.a or self.b\n",
    "\n",
    "    def salida(self):\n",
    "        return self.s"
   ]
  },
  {
   "cell_type": "code",
   "execution_count": 114,
   "metadata": {},
   "outputs": [
    {
     "data": {
      "text/plain": [
       "1"
      ]
     },
     "execution_count": 114,
     "metadata": {},
     "output_type": "execute_result"
    }
   ],
   "source": [
    "x = Or()\n",
    "x.entradas(0, 1)\n",
    "x.salida()"
   ]
  },
  {
   "cell_type": "markdown",
   "metadata": {},
   "source": [
    "---\n",
    "### <font color=\"green\">Ejercicio</font>\n",
    "- Crea un programa para mostrar la tabla lógica de la puerta OR.\n",
    "---"
   ]
  },
  {
   "cell_type": "markdown",
   "metadata": {},
   "source": [
    "## 2.2 Clase PuertaLogica"
   ]
  },
  {
   "cell_type": "code",
   "execution_count": null,
   "metadata": {},
   "outputs": [],
   "source": [
    "class PuertaLogica:\n",
    "    \"\"\"\n",
    "    Clase base para puertas lógicas de dos entradas.\n",
    "    \"\"\"        \n",
    "    def __init__(self):\n",
    "        \"\"\"Inicializa datos de la clase.\"\"\" \n",
    "\n",
    "        # llama al método entradas con\n",
    "        # datos de entrada en cero\n",
    "        self.entradas(0, 0)     \n",
    "        \n",
    "    def entradas(self, a, b):\n",
    "        \"\"\"Recibe datos de entrada.\"\"\"\n",
    "        \n",
    "        # almacena los parámetros de entradas\n",
    "        # a y  b en los objetos internos a y b\n",
    "        self.a = a\n",
    "        self.b = b\n",
    "        # llama al método calcula\n",
    "        self.calcula()\n",
    "        \n",
    "    def calcula(self):\n",
    "        \"\"\"Las clases derivadas definen su comportamiento.\"\"\"\n",
    "\n",
    "        # no ejecuta instrucción y retorna\n",
    "        pass\n",
    "    \n",
    "    def salida(self):\n",
    "        \"\"\"Retorna la salida.\"\"\"\n",
    "        return self.s"
   ]
  },
  {
   "cell_type": "markdown",
   "metadata": {},
   "source": [
    "### Clase And derivada de PuertaLogica"
   ]
  },
  {
   "cell_type": "code",
   "execution_count": 115,
   "metadata": {},
   "outputs": [],
   "source": [
    "class And(PuertaLogica):\n",
    "    \"\"\"\n",
    "    Modelo de una puerta lógica AND de dos entradas.\n",
    "    \"\"\"\n",
    "\n",
    "    def calcula(self):\n",
    "        \"\"\"\n",
    "        Realiza la operación lógica AND entre las entradas\n",
    "        y asigna el resultado a la salida.\n",
    "        \"\"\"\n",
    "        self.s = self.a and self.b"
   ]
  },
  {
   "cell_type": "code",
   "execution_count": 116,
   "metadata": {},
   "outputs": [
    {
     "name": "stdout",
     "output_type": "stream",
     "text": [
      "Help on class And in module __main__:\n",
      "\n",
      "class And(PuertaLogica)\n",
      " |  Modelo de una puerta lógica AND de dos entradas.\n",
      " |  \n",
      " |  Method resolution order:\n",
      " |      And\n",
      " |      PuertaLogica\n",
      " |      builtins.object\n",
      " |  \n",
      " |  Methods defined here:\n",
      " |  \n",
      " |  calcula(self)\n",
      " |      Realiza la operación lógica AND entre las entradas\n",
      " |      y asigna el resultado a la salida.\n",
      " |  \n",
      " |  ----------------------------------------------------------------------\n",
      " |  Methods inherited from PuertaLogica:\n",
      " |  \n",
      " |  __init__(self)\n",
      " |      Inicializa datos de la clase.\n",
      " |  \n",
      " |  entradas(self, a, b, c)\n",
      " |      Recibe datos de entrada.\n",
      " |  \n",
      " |  salida(self)\n",
      " |      Retorna la salida.\n",
      " |  \n",
      " |  ----------------------------------------------------------------------\n",
      " |  Data descriptors inherited from PuertaLogica:\n",
      " |  \n",
      " |  __dict__\n",
      " |      dictionary for instance variables (if defined)\n",
      " |  \n",
      " |  __weakref__\n",
      " |      list of weak references to the object (if defined)\n",
      "\n"
     ]
    }
   ],
   "source": [
    "help(And)"
   ]
  },
  {
   "cell_type": "markdown",
   "metadata": {},
   "source": [
    "### Clase Or derivada de PuertaLogica"
   ]
  },
  {
   "cell_type": "code",
   "execution_count": null,
   "metadata": {},
   "outputs": [],
   "source": [
    "class Or(PuertaLogica):\n",
    "    \"\"\"Modelo de una puerta lógica OR de dos entradas.\"\"\"\n",
    "    \n",
    "    def calcula(self):\n",
    "        \"\"\"\n",
    "        Realiza la operación lógica OR entre las entradas\n",
    "        y asigna el resultado a la salida.\n",
    "        \"\"\"\n",
    "        self.s = self.a or self.b"
   ]
  },
  {
   "cell_type": "markdown",
   "metadata": {},
   "source": [
    "### La puerta XOR\n",
    "<img src=\"xor.png\">"
   ]
  },
  {
   "cell_type": "code",
   "execution_count": null,
   "metadata": {},
   "outputs": [],
   "source": [
    "class Xor(PuertaLogica):\n",
    "    \"\"\"Modelo de una puerta lógica XOR de dos entradas.\"\"\"\n",
    "    \n",
    "    def calcula(self):\n",
    "        \"\"\"\n",
    "        Realiza la operación lógica OR exclusiva entre las entradas\n",
    "        y asigna el resultado a la salida.\n",
    "        \"\"\"\n",
    "        \n",
    "        # compara las entradas por desigualdad,\n",
    "        # convierte el resultado a entero\n",
    "        # y asigna el resultado a la salida\n",
    "        self.s = int(self.a != self.b)"
   ]
  },
  {
   "cell_type": "code",
   "execution_count": null,
   "metadata": {},
   "outputs": [],
   "source": [
    "x = Xor()         # crea un objeto de la clase Xor y lo asigna a x\n",
    "x.entradas(1, 1)  # coloca las entradas en 0 y 1\n",
    "x.salida()        # retorna la salida"
   ]
  },
  {
   "cell_type": "markdown",
   "metadata": {},
   "source": [
    "---\n",
    "### <font color=\"green\">Ejercicio</font>\n",
    "- Crea un programa para mostrar la tabla lógica de la puerta XOR.\n",
    "---"
   ]
  },
  {
   "cell_type": "markdown",
   "metadata": {},
   "source": [
    "### La puerta NOT\n",
    "<img src=\"not.png\">"
   ]
  },
  {
   "cell_type": "code",
   "execution_count": 102,
   "metadata": {},
   "outputs": [],
   "source": [
    "class Not:\n",
    "    \"\"\"Modelo de una puerta NOT.\"\"\"\n",
    "    \n",
    "    def __init__(self):\n",
    "        \"\"\"Inicializa la salida en 0.\"\"\"\n",
    "        self.s = 0\n",
    "        \n",
    "    def entrada(self, a):\n",
    "        \"\"\"Asigna a la salida el bit complementario de la entrada.\"\"\"\n",
    "        \n",
    "        # aplica el operador not a la entrada, convierte el \n",
    "        # resultado a entero y lo asigna a la salida.\n",
    "        self.s = int(not a)\n",
    "        \n",
    "    def salida(self):\n",
    "        \"\"\"Retorna la salida.\"\"\"\n",
    "        return self.s"
   ]
  },
  {
   "cell_type": "code",
   "execution_count": 103,
   "metadata": {},
   "outputs": [
    {
     "data": {
      "text/plain": [
       "0"
      ]
     },
     "execution_count": 103,
     "metadata": {},
     "output_type": "execute_result"
    }
   ],
   "source": [
    "x = Not()         # crea un objeto de la clase Not y lo asigna a x\n",
    "x.entrada(1)      # coloca la entrada en 0\n",
    "x.salida()        # retorna la salida"
   ]
  },
  {
   "cell_type": "markdown",
   "metadata": {},
   "source": [
    "## 2.3 La sentencia if "
   ]
  },
  {
   "cell_type": "markdown",
   "metadata": {},
   "source": [
    "La sentencia if ejecuta bloques de código condicionalmente, de acuerdo al resultado lógico de una expresión."
   ]
  },
  {
   "cell_type": "code",
   "execution_count": 104,
   "metadata": {},
   "outputs": [
    {
     "name": "stdout",
     "output_type": "stream",
     "text": [
      "a es cero\n"
     ]
    }
   ],
   "source": [
    "\"\"\"\n",
    "if expresion:\n",
    "    sentencias\n",
    "(elif expresion:       puede haber más de un bloque elif\n",
    "    sentencias)\n",
    "[else:                 puede haber hasta un bloque else\n",
    "    sentencias]\n",
    "\"\"\"\n",
    "a = 0\n",
    "if a > 0:                   # si a es mayor que 0\n",
    "    print('a es positivo')  #   muestra el texto 'a es positivo'\n",
    "elif a == 0:                # sino, si a es igual a 0\n",
    "    print('a es cero')      #   muestra el texto 'a es cero'\n",
    "else:                       # sino\n",
    "    print('a es negativo')  #   muestra el texto 'a es negativo'"
   ]
  },
  {
   "cell_type": "markdown",
   "metadata": {},
   "source": [
    "## 2.4 La clase Registro\n",
    "<img src=\"registro.png\">"
   ]
  },
  {
   "cell_type": "markdown",
   "metadata": {},
   "source": [
    "### Algoritmo\n",
    "```python\n",
    "Si el reloj cambia de 0 a 1 y el habilitador estaba en 1\n",
    "    Asigna a la salida el dato d que había antes del cambio de reloj\n",
    "```"
   ]
  },
  {
   "cell_type": "code",
   "execution_count": 105,
   "metadata": {},
   "outputs": [],
   "source": [
    "class Registro:\n",
    "    \"\"\"Modela una memoria o registro de un bit.\"\"\"\n",
    "    \n",
    "    def __init__(self):\n",
    "        \"\"\"Crea e inicializa los objetos de la clase.\"\"\"\n",
    "        self.d = 0\n",
    "        self.reloj = 0\n",
    "        self.habilitador = 0\n",
    "        self.q = 0\n",
    "        \n",
    "    def entradas(self, reloj, habilitador, d):\n",
    "        \"\"\"Recibe las entradas y evalúa si actualizar la salida.\"\"\"\n",
    "        \n",
    "        # si el reloj interno es 0 y el reloj externo 1 y el habilitador interno 1\n",
    "        if self.reloj == 0 and reloj == 1 and self.habilitador == 1:\n",
    "            # asigna la entrada interna al dato de salida\n",
    "            self.q = self.d\n",
    "\n",
    "        # actualiza los objetos internos\n",
    "        self.d = d                      # dato de entrada\n",
    "        self.reloj = reloj              # entrada para ingreso de dato\n",
    "        self.habilitador = habilitador  # entrada de habilitación\n",
    "        \n",
    "    def salida(self):\n",
    "        \"\"\"Retorna el bit almacenado.\"\"\"\n",
    "        return self.q "
   ]
  },
  {
   "cell_type": "code",
   "execution_count": 106,
   "metadata": {},
   "outputs": [
    {
     "name": "stdout",
     "output_type": "stream",
     "text": [
      "Salida inicial:  0\n",
      "Reloj = 0, habilitador = 1, d = 1 => q = 0\n",
      "Reloj = 0, habilitador = 1, d = 0 => q = 0\n"
     ]
    }
   ],
   "source": [
    "# inicialización\n",
    "registro = Registro()                           # crea un objeto Registro\n",
    "print(\"Salida inicial: \", registro.salida())    # muestra el bit almacenado\n",
    "\n",
    "# ingreso de datos\n",
    "reloj = 0\n",
    "habilitador = 1\n",
    "dato = 1\n",
    "\n",
    "# procesamiento de datos\n",
    "registro.entradas(reloj, habilitador, dato)\n",
    "q = registro.salida()\n",
    "\n",
    "# reporte de datos\n",
    "print(\"Reloj = {}, habilitador = {}, d = {} => q = {}\".format(reloj, habilitador, dato, q))\n",
    "\n",
    "# nuevos datos, procesamiento y reporte\n",
    "reloj = 0\n",
    "dato = 0\n",
    "registro.entradas(reloj, habilitador, dato)\n",
    "q = registro.salida()\n",
    "print(\"Reloj = {}, habilitador = {}, d = {} => q = {}\".format(reloj, habilitador, dato, q))"
   ]
  },
  {
   "cell_type": "markdown",
   "metadata": {},
   "source": [
    "<img src=\"linea.png\"><br>\n",
    "<a id='tarea3'></a>\n",
    "# [Tarea 3](#inicio)\n",
    "# Simulando circuitos lógicos\n",
    "<img src=\"linea.png\"><br>"
   ]
  },
  {
   "cell_type": "markdown",
   "metadata": {},
   "source": [
    "## 3.1 Sumador completo\n",
    "<img src=\"sumadorcompleto.png\"><br>"
   ]
  },
  {
   "cell_type": "code",
   "execution_count": 107,
   "metadata": {},
   "outputs": [],
   "source": [
    "class SumadorCompleto:\n",
    "    \"\"\"\n",
    "    Suma tres bits de entrada en dos bits de salida.\n",
    "    \"\"\"        \n",
    "    def __init__(self):\n",
    "        \"\"\"Crea las puertas lógicas e inicializa las entradas y salidas a cero.\"\"\"\n",
    "        \n",
    "        # puertas lógicas para el sumador completo\n",
    "        self.and1 = And()       # and1 es un objeto de clase And\n",
    "        self.and2 = And()       # and2 es un objeto de clase And\n",
    "        self.and3 = And()       # and3 es un objeto de clase And\n",
    "        self.or1 = Or()         #  or1 es un objeto de clase Or\n",
    "        self.or2 = Or()         #  or2 es un objeto de clase Or\n",
    "        self.xor1 = Xor()       # xor1 es un objeto de clase Xor\n",
    "        self.xor2 = Xor()       # xor2 es un objeto de clase Xor\n",
    "\n",
    "        # ejecuta el método entradas con argumentos en cero\n",
    "        self.entradas(0, 0, 0)\n",
    "        \n",
    "    def entradas(self, a, b, ci):\n",
    "        \"\"\"Recibe las entradas del sumador completo y calcula las salidas.\"\"\"\n",
    "        # toma las entradas\n",
    "        self.a = a      # la entrada a  se asigna al objeto interno a\n",
    "        self.b = b      # la entrada b  se asigna al objeto interno b\n",
    "        self.ci = ci    # la entrada ci se asigna al objeto interno ci\n",
    "        \n",
    "        # ejecuta el método circuito\n",
    "        self.circuito() # \n",
    "\n",
    "    def circuito(self):\n",
    "        \"\"\"Modelo estructural de un sumador completo.\"\"\"\n",
    "\n",
    "        # bit de acarreo de salida\n",
    "        # ----------------------------------------------\n",
    "        # bloque de ands\n",
    "        self.and1.entradas(self.a, self.b)  # a y b  son entradas de and1\n",
    "        self.and2.entradas(self.a, self.ci) # a y ci son entradas de and2\n",
    "        self.and3.entradas(self.b, self.ci) # b y ci son entradas de and3\n",
    "        nodo1 = self.and1.salida()          # nodo1 es salida de and1\n",
    "        nodo2 = self.and2.salida()          # nodo2 es salida de and2\n",
    "        nodo3 = self.and3.salida()          # nodo3 es salida de and3\n",
    "        # bloque de ors\n",
    "        self.or1.entradas(nodo1, nodo2)     # nodo1 y nodo2 son entradas de or1\n",
    "        nodo4 = self.or1.salida()           # nodo4 es salida de or1\n",
    "        self.or2.entradas(nodo4, nodo3)     # nodo4 y nodo3 son entradas de or2\n",
    "        self.co = self.or2.salida()         # co es salida de or2\n",
    "        \n",
    "        # bit de suma\n",
    "        # ----------------------------------------------\n",
    "        # bloque de xors\n",
    "        self.xor1.entradas(self.a, self.b)  # a y b son entradas de xor1\n",
    "        nodo5 = self.xor1.salida()          # nodo5 es salida de xor1\n",
    "        self.xor2.entradas(nodo5, self.ci)  # nodo5 y ci son entradas de xor2\n",
    "        self.s = self.xor2.salida()         # s es salida de xor2\n",
    "\n",
    "    def salidas(self):\n",
    "        \"\"\"Retorna el acarreo y la suma.\"\"\"\n",
    "        # retorna la salida como una tupla de dos elementos\n",
    "        return self.co, self.s"
   ]
  },
  {
   "cell_type": "code",
   "execution_count": 108,
   "metadata": {},
   "outputs": [
    {
     "ename": "TypeError",
     "evalue": "entradas() missing 1 required positional argument: 'c'",
     "output_type": "error",
     "traceback": [
      "\u001b[1;31m---------------------------------------------------------------------------\u001b[0m",
      "\u001b[1;31mTypeError\u001b[0m                                 Traceback (most recent call last)",
      "\u001b[1;32m<ipython-input-108-beb11afd8331>\u001b[0m in \u001b[0;36m<module>\u001b[1;34m\u001b[0m\n\u001b[1;32m----> 1\u001b[1;33m \u001b[0msumador\u001b[0m \u001b[1;33m=\u001b[0m \u001b[0mSumadorCompleto\u001b[0m\u001b[1;33m(\u001b[0m\u001b[1;33m)\u001b[0m     \u001b[1;31m# crea un objeto de tipo o clase SumadorCompleto\u001b[0m\u001b[1;33m\u001b[0m\u001b[1;33m\u001b[0m\u001b[0m\n\u001b[0m\u001b[0;32m      2\u001b[0m \u001b[0msumador\u001b[0m\u001b[1;33m.\u001b[0m\u001b[0mentradas\u001b[0m\u001b[1;33m(\u001b[0m\u001b[1;36m1\u001b[0m\u001b[1;33m,\u001b[0m \u001b[1;36m1\u001b[0m\u001b[1;33m,\u001b[0m \u001b[1;36m1\u001b[0m\u001b[1;33m)\u001b[0m       \u001b[1;31m# fija las entradas a unos\u001b[0m\u001b[1;33m\u001b[0m\u001b[1;33m\u001b[0m\u001b[0m\n\u001b[0;32m      3\u001b[0m \u001b[0msumador\u001b[0m\u001b[1;33m.\u001b[0m\u001b[0msalidas\u001b[0m\u001b[1;33m(\u001b[0m\u001b[1;33m)\u001b[0m               \u001b[1;31m# retorna la salida como una tupla de dos elementos\u001b[0m\u001b[1;33m\u001b[0m\u001b[1;33m\u001b[0m\u001b[0m\n",
      "\u001b[1;32m<ipython-input-107-d1675a8a7305>\u001b[0m in \u001b[0;36m__init__\u001b[1;34m(self)\u001b[0m\n\u001b[0;32m     16\u001b[0m \u001b[1;33m\u001b[0m\u001b[0m\n\u001b[0;32m     17\u001b[0m         \u001b[1;31m# ejecuta el método entradas con argumentos en cero\u001b[0m\u001b[1;33m\u001b[0m\u001b[1;33m\u001b[0m\u001b[1;33m\u001b[0m\u001b[0m\n\u001b[1;32m---> 18\u001b[1;33m         \u001b[0mself\u001b[0m\u001b[1;33m.\u001b[0m\u001b[0mentradas\u001b[0m\u001b[1;33m(\u001b[0m\u001b[1;36m0\u001b[0m\u001b[1;33m,\u001b[0m \u001b[1;36m0\u001b[0m\u001b[1;33m,\u001b[0m \u001b[1;36m0\u001b[0m\u001b[1;33m)\u001b[0m\u001b[1;33m\u001b[0m\u001b[1;33m\u001b[0m\u001b[0m\n\u001b[0m\u001b[0;32m     19\u001b[0m \u001b[1;33m\u001b[0m\u001b[0m\n\u001b[0;32m     20\u001b[0m     \u001b[1;32mdef\u001b[0m \u001b[0mentradas\u001b[0m\u001b[1;33m(\u001b[0m\u001b[0mself\u001b[0m\u001b[1;33m,\u001b[0m \u001b[0ma\u001b[0m\u001b[1;33m,\u001b[0m \u001b[0mb\u001b[0m\u001b[1;33m,\u001b[0m \u001b[0mci\u001b[0m\u001b[1;33m)\u001b[0m\u001b[1;33m:\u001b[0m\u001b[1;33m\u001b[0m\u001b[1;33m\u001b[0m\u001b[0m\n",
      "\u001b[1;32m<ipython-input-107-d1675a8a7305>\u001b[0m in \u001b[0;36mentradas\u001b[1;34m(self, a, b, ci)\u001b[0m\n\u001b[0;32m     26\u001b[0m \u001b[1;33m\u001b[0m\u001b[0m\n\u001b[0;32m     27\u001b[0m         \u001b[1;31m# ejecuta el método circuito\u001b[0m\u001b[1;33m\u001b[0m\u001b[1;33m\u001b[0m\u001b[1;33m\u001b[0m\u001b[0m\n\u001b[1;32m---> 28\u001b[1;33m         \u001b[0mself\u001b[0m\u001b[1;33m.\u001b[0m\u001b[0mcircuito\u001b[0m\u001b[1;33m(\u001b[0m\u001b[1;33m)\u001b[0m \u001b[1;31m#\u001b[0m\u001b[1;33m\u001b[0m\u001b[1;33m\u001b[0m\u001b[0m\n\u001b[0m\u001b[0;32m     29\u001b[0m \u001b[1;33m\u001b[0m\u001b[0m\n\u001b[0;32m     30\u001b[0m     \u001b[1;32mdef\u001b[0m \u001b[0mcircuito\u001b[0m\u001b[1;33m(\u001b[0m\u001b[0mself\u001b[0m\u001b[1;33m)\u001b[0m\u001b[1;33m:\u001b[0m\u001b[1;33m\u001b[0m\u001b[1;33m\u001b[0m\u001b[0m\n",
      "\u001b[1;32m<ipython-input-107-d1675a8a7305>\u001b[0m in \u001b[0;36mcircuito\u001b[1;34m(self)\u001b[0m\n\u001b[0;32m     41\u001b[0m         \u001b[0mnodo3\u001b[0m \u001b[1;33m=\u001b[0m \u001b[0mself\u001b[0m\u001b[1;33m.\u001b[0m\u001b[0mand3\u001b[0m\u001b[1;33m.\u001b[0m\u001b[0msalida\u001b[0m\u001b[1;33m(\u001b[0m\u001b[1;33m)\u001b[0m          \u001b[1;31m# nodo3 es salida de and3\u001b[0m\u001b[1;33m\u001b[0m\u001b[1;33m\u001b[0m\u001b[0m\n\u001b[0;32m     42\u001b[0m         \u001b[1;31m# bloque de ors\u001b[0m\u001b[1;33m\u001b[0m\u001b[1;33m\u001b[0m\u001b[1;33m\u001b[0m\u001b[0m\n\u001b[1;32m---> 43\u001b[1;33m         \u001b[0mself\u001b[0m\u001b[1;33m.\u001b[0m\u001b[0mor1\u001b[0m\u001b[1;33m.\u001b[0m\u001b[0mentradas\u001b[0m\u001b[1;33m(\u001b[0m\u001b[0mnodo1\u001b[0m\u001b[1;33m,\u001b[0m \u001b[0mnodo2\u001b[0m\u001b[1;33m)\u001b[0m     \u001b[1;31m# nodo1 y nodo2 son entradas de or1\u001b[0m\u001b[1;33m\u001b[0m\u001b[1;33m\u001b[0m\u001b[0m\n\u001b[0m\u001b[0;32m     44\u001b[0m         \u001b[0mnodo4\u001b[0m \u001b[1;33m=\u001b[0m \u001b[0mself\u001b[0m\u001b[1;33m.\u001b[0m\u001b[0mor1\u001b[0m\u001b[1;33m.\u001b[0m\u001b[0msalida\u001b[0m\u001b[1;33m(\u001b[0m\u001b[1;33m)\u001b[0m           \u001b[1;31m# nodo4 es salida de or1\u001b[0m\u001b[1;33m\u001b[0m\u001b[1;33m\u001b[0m\u001b[0m\n\u001b[0;32m     45\u001b[0m         \u001b[0mself\u001b[0m\u001b[1;33m.\u001b[0m\u001b[0mor2\u001b[0m\u001b[1;33m.\u001b[0m\u001b[0mentradas\u001b[0m\u001b[1;33m(\u001b[0m\u001b[0mnodo4\u001b[0m\u001b[1;33m,\u001b[0m \u001b[0mnodo3\u001b[0m\u001b[1;33m)\u001b[0m     \u001b[1;31m# nodo4 y nodo3 son entradas de or2\u001b[0m\u001b[1;33m\u001b[0m\u001b[1;33m\u001b[0m\u001b[0m\n",
      "\u001b[1;31mTypeError\u001b[0m: entradas() missing 1 required positional argument: 'c'"
     ]
    }
   ],
   "source": [
    "sumador = SumadorCompleto()     # crea un objeto de tipo o clase SumadorCompleto\n",
    "sumador.entradas(1, 1, 1)       # fija las entradas a unos\n",
    "sumador.salidas()               # retorna la salida como una tupla de dos elementos"
   ]
  },
  {
   "cell_type": "markdown",
   "metadata": {},
   "source": [
    "## 3.2 Listas"
   ]
  },
  {
   "cell_type": "markdown",
   "metadata": {},
   "source": [
    "### Creación de listas"
   ]
  },
  {
   "cell_type": "code",
   "execution_count": null,
   "metadata": {},
   "outputs": [],
   "source": [
    "a = [0, 0, 1, 1]            # una lista de cuatro bits (enteros ceros y unos)\n",
    "print(\"La lista a es\", a)   # muestra el texto y la lista separados por un espacio "
   ]
  },
  {
   "cell_type": "code",
   "execution_count": null,
   "metadata": {},
   "outputs": [],
   "source": [
    "a = [False]     # lista con un elemento\n",
    "a"
   ]
  },
  {
   "cell_type": "code",
   "execution_count": null,
   "metadata": {},
   "outputs": [],
   "source": [
    "a = []          # lista vacía\n",
    "a"
   ]
  },
  {
   "cell_type": "code",
   "execution_count": null,
   "metadata": {},
   "outputs": [],
   "source": [
    "\"\"\"\n",
    "[0]*4 -> [0, 0, 0, 0]\n",
    "[1]*4 -> [1, 1, 1, 1]\n",
    "[0, 0, 0, 0] + [1, 1, 1, 1] -> [0, 0, 0, 0, 1, 1, 1, 1]\n",
    "\"\"\"\n",
    "a = [0]*4 + [1]*4       # cuatro ceros y cuatro unos\n",
    "\n",
    "\"\"\"\n",
    "[0]*2 -> [0, 0]\n",
    "# [1]*2 -> [1, 1]\n",
    "# [0, 0] + [1, 1] -> [0, 0, 1, 1]\n",
    "# [0, 0, 1, 1]*2 -> [0, 0, 1, 1, 0, 0, 1, 1]\n",
    "\"\"\"\n",
    "b = ([0]*2 + [1]*2)*2   # dos ceros y dos unos, y otra vez dos ceros y dos unos\n",
    "\n",
    "\"\"\"\n",
    "[0, 1]*4 -> [0, 1, 0, 1, 0, 1, 0, 1]\n",
    "\"\"\"\n",
    "c = [0, 1]*4            # cuatro pares de ceros y unos\n",
    "\n",
    "print(a)\n",
    "print(b)\n",
    "print(c)"
   ]
  },
  {
   "cell_type": "markdown",
   "metadata": {},
   "source": [
    "### Cantidad de objetos"
   ]
  },
  {
   "cell_type": "code",
   "execution_count": null,
   "metadata": {},
   "outputs": [],
   "source": [
    "len(a)  # retorna el número de elementos de la lista a"
   ]
  },
  {
   "cell_type": "markdown",
   "metadata": {},
   "source": [
    "### Selección de objetos"
   ]
  },
  {
   "cell_type": "code",
   "execution_count": null,
   "metadata": {},
   "outputs": [],
   "source": [
    "a[0]    # retorna el primer elemento de la lista a"
   ]
  },
  {
   "cell_type": "code",
   "execution_count": null,
   "metadata": {},
   "outputs": [],
   "source": [
    "a[-1]   # retorna el último elemento de la lista a"
   ]
  },
  {
   "cell_type": "code",
   "execution_count": null,
   "metadata": {},
   "outputs": [],
   "source": [
    "a[2:6]  # retorna una lista con los elementos de a desde las posiciones 2 a 5, uno antes que 6."
   ]
  },
  {
   "cell_type": "code",
   "execution_count": null,
   "metadata": {},
   "outputs": [],
   "source": [
    "a[8]    # 8 no es un índice válido en la lista a, que tiene elementos en las posiciones 0 a 7."
   ]
  },
  {
   "cell_type": "markdown",
   "metadata": {},
   "source": [
    "### Modificación de listas"
   ]
  },
  {
   "cell_type": "code",
   "execution_count": null,
   "metadata": {},
   "outputs": [],
   "source": [
    "operadores = ['and', 'or', 'no']    # operadores contiene tres elementos\n",
    "print(operadores)                   # muestra la lista\n",
    "operadores[2] = 'not'               # modifica el tercer elemento, en la posición 2\n",
    "print(operadores)                   # muestra la lista modificada"
   ]
  },
  {
   "cell_type": "code",
   "execution_count": null,
   "metadata": {},
   "outputs": [],
   "source": [
    "operadores.append('in')             # agrega 'in' al final de la lista\n",
    "operadores.append('is')             # agrega 'is'\n",
    "print(operadores)                   # muestra la lista con sus nuevos elementos"
   ]
  },
  {
   "cell_type": "markdown",
   "metadata": {},
   "source": [
    "## 3.1 La sentencia for"
   ]
  },
  {
   "cell_type": "code",
   "execution_count": null,
   "metadata": {},
   "outputs": [],
   "source": [
    "for n in [1, 2, 3]:     # para cada valor de n desde 1 hasta 3\n",
    "    print(n)                # muestra el valor de n"
   ]
  },
  {
   "cell_type": "markdown",
   "metadata": {},
   "source": [
    "### El objeto range"
   ]
  },
  {
   "cell_type": "code",
   "execution_count": null,
   "metadata": {},
   "outputs": [],
   "source": [
    "for x in range(-2, 4):  # para cada valor de x desde -2 hasta 3\n",
    "    print(x)                    # muestra el valor de x"
   ]
  },
  {
   "cell_type": "markdown",
   "metadata": {},
   "source": [
    "### Sentencias for anidadas"
   ]
  },
  {
   "cell_type": "code",
   "execution_count": null,
   "metadata": {},
   "outputs": [],
   "source": [
    "sumador = SumadorCompleto()\n",
    "print(\"a b ci  co s\")\n",
    "for a in range(2):                          # para cada valor 0 y 1 de a\n",
    "    for b in range(2):                          # para cada valor 0 y 1 de b\n",
    "        for ci in range(2):                         # para cada valor 0 y 1 de ci\n",
    "            sumador.entradas(a, b, ci)                  # las entradas del sumado son a, b y ci\n",
    "            co, s = sumador.salidas()                   # las salidas se guardan en co y s\n",
    "            # muestra la fila de datos\n",
    "            print(\"{} {} {}    {} {}\".format(a, b, ci, co, s))"
   ]
  },
  {
   "cell_type": "markdown",
   "metadata": {},
   "source": [
    "### Barrido de índices de listas"
   ]
  },
  {
   "cell_type": "code",
   "execution_count": null,
   "metadata": {},
   "outputs": [],
   "source": [
    "sumador = SumadorCompleto() # sumador es un objeto de tipo SumadorCompleto\n",
    "a = [0]*4 + [1]*4           # a  : [0, 0, 0, 0, 1, 1, 1, 1]\n",
    "b = ([0]*2 + [1]*2)*2       # b  : [0, 0, 1, 1, 0, 0, 1, 1]\n",
    "ci = [0, 1]*4               # ci : [0, 1, 0, 1, 0, 1, 0, 1]\n",
    "\n",
    "print(\"a b ci  co s\")\n",
    "\n",
    "for i in range(8):                          # para cada valor de i desde 0 hasta 7\n",
    "    sumador.entradas(a[i], b[i], ci[i])         # el sumador recibe los elementos de las listas indizadas por i\n",
    "    co, s = sumador.salidas()                   # las salidas se asignan a co y s\n",
    "    # muestra los datos de una fila\n",
    "    print(\"{} {} {}    {} {}\".format(a[i], b[i], ci[i], co, s))"
   ]
  },
  {
   "cell_type": "markdown",
   "metadata": {},
   "source": [
    "<img src=\"linea.png\"><br>\n",
    "<a id='tarea4'></a>\n",
    "# [Tarea 4](#inicio)\n",
    "# Creando un cronograma\n",
    "<img src=\"linea.png\"><br>"
   ]
  },
  {
   "cell_type": "markdown",
   "metadata": {},
   "source": [
    "## 4.1 matplotlib"
   ]
  },
  {
   "cell_type": "markdown",
   "metadata": {},
   "source": [
    "### Importando el módulo\n",
    "La sentencia siguiente importa el módulo pyplot de matplotlib con un alias, plt. Este módulo contiene funciones gráficas que se llamarán como plt.metodo(argumentos). Si no se usara el alias tendrían que llamarse como matplotlib.pyplot.metodo(argumentos). El nombre plt es convencional, mas puede usarse otro nombre como alias."
   ]
  },
  {
   "cell_type": "code",
   "execution_count": null,
   "metadata": {},
   "outputs": [],
   "source": [
    "import matplotlib.pyplot as plt     # importa el módulo pyplot de matplotlib con el alias plt"
   ]
  },
  {
   "cell_type": "markdown",
   "metadata": {},
   "source": [
    "### Una señal digital"
   ]
  },
  {
   "cell_type": "code",
   "execution_count": null,
   "metadata": {},
   "outputs": [],
   "source": [
    "t = [0, 1, 1.1, 2, 2.1, 3, 3.1, 4]  # patrón de tiempos\n",
    "b = [0, 0,   1, 1,   0, 0,   1, 1]  # patrón digital 0101 con valores repetidos\n",
    "# grafica b versus t\n",
    "plt.plot(t, b)                      # con líneas de color predefinido\n",
    "plt.plot(t, b, 'ro')                # con puntos rojos\n",
    "plt.show()                          # visualiza la gráfica"
   ]
  },
  {
   "cell_type": "markdown",
   "metadata": {},
   "source": [
    "## 4.2 Señales digitales"
   ]
  },
  {
   "cell_type": "code",
   "execution_count": null,
   "metadata": {},
   "outputs": [],
   "source": [
    "# señal de tiempo\n",
    "t = [0, 1, 1.1, 2, 2.1, 3, 3.1, 4]\n",
    "# señales digitales\n",
    "a = [0, 0,   0, 0,   1, 1,   1, 1]\n",
    "b = [0, 0,   1, 1,   0, 0,   1, 1]\n",
    "y = [0, 0,   0, 0,   0, 0,   1, 1]\n",
    "plt.plot(t, a)      # grafica a versus t\n",
    "plt.plot(t, b)      # grafica b versus t\n",
    "plt.plot(t, y)      # grafica y versus t\n",
    "plt.show()          # visualiza las gráficas"
   ]
  },
  {
   "cell_type": "markdown",
   "metadata": {},
   "source": [
    "### Función tiempos"
   ]
  },
  {
   "cell_type": "code",
   "execution_count": null,
   "metadata": {},
   "outputs": [],
   "source": [
    "t = [0]                 # inicializa una lista con el tiempo 0\n",
    "\n",
    "for i in range(1, 4):   # para cada valor entre 1 y 3\n",
    "    t.append(i)             # agrega el tiempo i a la lista\n",
    "    t.append(i + 0.1)       # agrega el tiempo i más 0.1\n",
    "\n",
    "t.append(4)             # agrega el tiempo 4\n",
    "print(t)                # muestra la lista de tiempos"
   ]
  },
  {
   "cell_type": "code",
   "execution_count": null,
   "metadata": {},
   "outputs": [],
   "source": [
    "def tiempos(T, dt):\n",
    "    \"\"\"\n",
    "    Recibe el número de periodos y el tiempo de cambio de nivel lógico.\n",
    "    Retorna una lista de tiempos desde 0 hasta T con tiempos de cambio \n",
    "    agregados después de cada entero entre 1 y T - 1.\n",
    "    \"\"\"\n",
    "    \n",
    "    t = [0]                 # inicializa una lista con el tiempo 0\n",
    "    for i in range(1, T):   # para cada valor entre 1 y T - 1\n",
    "        t.append(i)             # agrega a la lista el tiempo i\n",
    "        t.append(i + dt)        # agrega a la lista el tiempo i incrementado en dt\n",
    "\n",
    "    t.append(T)             # agrega el tiempo T\n",
    "    return t                # retorna la lista de tiempos"
   ]
  },
  {
   "cell_type": "code",
   "execution_count": null,
   "metadata": {},
   "outputs": [],
   "source": [
    "tiempos(4, 0.1)"
   ]
  },
  {
   "cell_type": "markdown",
   "metadata": {},
   "source": [
    "### Función duplica"
   ]
  },
  {
   "cell_type": "code",
   "execution_count": null,
   "metadata": {},
   "outputs": [],
   "source": [
    "a = [1, 0, 1, 0]            # lista de cuatro elementos\n",
    "b = [0]*2*len(a)            # lista de ocho elementos, todos en cero\n",
    "for i in range(len(a)):     # para cada valor de i desde 0 hasta 3\n",
    "    b[2*i] = a[i]               # la posición 2i     de b recibe el valor de la posición i de a\n",
    "    b[2*i + 1] = a[i]           # la posición 2i + 1 de b recibe el valor de la posición i de a\n",
    "b                           # muestra la lista b "
   ]
  },
  {
   "cell_type": "code",
   "execution_count": null,
   "metadata": {},
   "outputs": [],
   "source": [
    "def duplica(lista):\n",
    "    \"\"\"\n",
    "    Recibe una lista y retorna otra lista con los elementos duplicados.\n",
    "    \"\"\"\n",
    "    doble = [0]*2*len(lista)        # doble es una lista de ceros, de doble tamaño que lista\n",
    "    \n",
    "    for i in range(len(lista)):     # para cada índice de lista\n",
    "        doble[2*i]     = lista[i]       # el elemento en la posición i de lista se asigna a la posición 2i      de doble\n",
    "        doble[2*i + 1] = lista[i]       # el elemento en la posición i de lista se asigna a la posición 2i  + 1 de doble\n",
    "    \n",
    "    return doble                    # retorna la lista con elementos duplicados "
   ]
  },
  {
   "cell_type": "code",
   "execution_count": null,
   "metadata": {},
   "outputs": [],
   "source": [
    "print(duplica([1, 0, 1, 0]))\n",
    "print(duplica([0, 1, 1, 0]))\n",
    "print(duplica([1, 0, 0, 1]))"
   ]
  },
  {
   "cell_type": "markdown",
   "metadata": {},
   "source": [
    "## 4.3 Función dibuja"
   ]
  },
  {
   "cell_type": "code",
   "execution_count": null,
   "metadata": {},
   "outputs": [],
   "source": [
    "# señales digitales\n",
    "a = [0, 0, 1, 1]\n",
    "b = [0, 1, 0, 1]\n",
    "y = [0, 0, 0, 1]\n",
    "\n",
    "# señal de tiempo\n",
    "t = tiempos(4, 0.1)\n",
    "\n",
    "for i in range(len(a)):     # para cada índice de a\n",
    "    a[i] = a[i] + 2             # suma 2 a al elemento indizado de a\n",
    "a = duplica(a)              # duplica los elementos de a\n",
    "plt.plot(t, a)              # grafica a versus t\n",
    "\n",
    "# a cada elemento de b le suma 1, duplica sus valores y los grafica versus t\n",
    "for i in range(len(b)):\n",
    "    b[i] = b[i] + 1\n",
    "b = duplica(b)        \n",
    "plt.plot(t, b)\n",
    "        \n",
    "# a cada elemento de y le suma 0, duplica sus valores y los grafica versus t\n",
    "for i in range(len(y)):\n",
    "    y[i] = y[i] + 0\n",
    "y = duplica(y)        \n",
    "plt.plot(t, y)\n",
    "\n",
    "# visualiza la figura con las gráficas\n",
    "plt.show()"
   ]
  },
  {
   "cell_type": "markdown",
   "metadata": {},
   "source": [
    "### Prototipo con lista de listas"
   ]
  },
  {
   "cell_type": "code",
   "execution_count": null,
   "metadata": {},
   "outputs": [],
   "source": [
    "# canales es una lista de tres listas\n",
    "canales = [[0, 0, 1, 1],    # lista 0 de canales\n",
    "           [0, 1, 0, 1],    # lista 1\n",
    "           [0, 0, 0, 1]]    # lista 2\n",
    "\n",
    "t = tiempos(4, 0.1)         # lista de tiempos\n",
    "delta = len(canales)        # delta es 3, el número de elementos de la lista canales\n",
    "\n",
    "for lista in canales:               # para cada lista en canales\n",
    "    canal = lista[:]                    # una copia se asigna a canal\n",
    "    delta = delta - 1                   # delta disminuye en 1\n",
    "    for i in range(len(canal)):             # para cada índice de la lista canal\n",
    "        canal[i] = canal[i] + delta             # agrega delta al elemento indizado \n",
    "\n",
    "    plt.plot(t, duplica(canal))         # grafica los datos duplicados de canal versus t\n",
    "\n",
    "plt.show()                          # muestra la figura con todos los gráficos"
   ]
  },
  {
   "cell_type": "markdown",
   "metadata": {},
   "source": [
    "### Primera versión"
   ]
  },
  {
   "cell_type": "code",
   "execution_count": null,
   "metadata": {},
   "outputs": [],
   "source": [
    "def dibuja(canales, dt, dy):\n",
    "    \"\"\"\n",
    "    Recibe una lista de canales, el tiempo de cambio de nivel lógico y la separación entre canales.\n",
    "    Muestra las señales comenzando con el primer canal en la parte superior.\n",
    "    \"\"\"\n",
    "   \n",
    "    # lista de tiempos con tantos periodos como número de datos de las listas en canales\n",
    "    t = tiempos(len(canales[0]), dt) \n",
    "\n",
    "    delta = len(canales)                # delta toma el número de elementos de la lista canales\n",
    "\n",
    "    for lista in canales:               # para cada lista en canales\n",
    "        canal = lista[:]                    # una copia se asigna a canal\n",
    "        delta = delta - 1                   # delta disminuye en 1\n",
    "        for i in range(len(canal)):             # para cada índice de la lista canal\n",
    "            if canal[i] == 1:                       # si el elemento indizado es 1\n",
    "                canal[i] = canal[i] - dy                # se le disminuye en dy\n",
    "            canal[i] = canal[i] + delta             # agrega delta al elemento indizado \n",
    "\n",
    "        plt.plot(t, duplica(canal))         # grafica los datos duplicados de canal versus t\n",
    "\n",
    "    plt.show()                          # muestra todos los gráficos"
   ]
  },
  {
   "cell_type": "code",
   "execution_count": null,
   "metadata": {},
   "outputs": [],
   "source": [
    "canales = [[0, 0, 1, 1], \n",
    "           [0, 1, 0, 1],\n",
    "           [0, 0, 0, 1], \n",
    "           [0, 1, 1, 1]]\n",
    "dibuja(canales, 0.1, 0.2)"
   ]
  },
  {
   "cell_type": "markdown",
   "metadata": {},
   "source": [
    "### Segunda versión"
   ]
  },
  {
   "cell_type": "code",
   "execution_count": null,
   "metadata": {},
   "outputs": [],
   "source": [
    "def dibuja(canales, dt, dy):\n",
    "    \"\"\"\n",
    "    Recibe una lista de canales, el tiempo de cambio de nivel lógico y la separación entre canales.\n",
    "    Muestra las señales comenzando con el primer canal en la parte superior.\n",
    "    Coloca marcas en los ejes coordenados.\n",
    "    \"\"\"\n",
    "\n",
    "    N = len(canales)        # N toma el número de listas en canales\n",
    "    T = len(canales[0])     # T toma el número de periodos de la primera lista en canales\n",
    "    t = tiempos(T, dt)      # t contiene la lista de tiempos\n",
    "    delta = N               # delta copia a N, el número de listas\n",
    "\n",
    "    for lista in canales:               # para cada lista en canales\n",
    "        canal = lista[:]                    # una copia se asigna a canal\n",
    "        delta = delta - 1                   # delta disminuye en 1\n",
    "        for i in range(len(canal)):             # para cada índice de la lista canal\n",
    "            if canal[i] == 1:                       # si el elemento indizado es 1\n",
    "                canal[i] = canal[i] - dy                # se le disminuye en dy\n",
    "            canal[i] = canal[i] + delta             # agrega delta al elemento indizado \n",
    "\n",
    "        plt.plot(t, duplica(canal))         # grafica los datos duplicados de canal versus t\n",
    "        \n",
    "    # marcas en el eje y\n",
    "    y = [0]*(2*N)                   # y es una lista del doble número de canales en cero\n",
    "    for i in range(N):              # para cada índice i desde 0 hasta N - 1\n",
    "        y[2*i] = i                      # el elemento de y indizado por 2i     recibe el valor i, donde irá una marca 0\n",
    "        y[2*i + 1] = i + 1 - dy         # el elemento de y indizado por 2i + 1 recibe el valor i + 1 - dy, donde irá una marca 1\n",
    "    \n",
    "    # marcas en el eje x\n",
    "    plt.yticks(y, [0, 1]*N)         # en las posiciones definidas por y se colocan marcas 0 y 1 alternadamente sobre el eje y\n",
    "    plt.xticks(range(0, T + 1))     # las posiciones desde 0 hasta T se marcan con los números desde 0 hasta T sobre el eje x\n",
    "    \n",
    "    plt.grid()      # muestra una grilla\n",
    "    plt.show()      # muestra todos los gráficos"
   ]
  },
  {
   "cell_type": "code",
   "execution_count": null,
   "metadata": {},
   "outputs": [],
   "source": [
    "canales = [[0, 0, 1, 1], \n",
    "           [0, 1, 0, 1], \n",
    "           [0, 0, 0, 1], \n",
    "           [0, 1, 1, 1]]\n",
    "\n",
    "dibuja(canales, 0.1, 0.3)"
   ]
  },
  {
   "cell_type": "markdown",
   "metadata": {},
   "source": [
    "## 4.4 La función cronograma"
   ]
  },
  {
   "cell_type": "code",
   "execution_count": null,
   "metadata": {},
   "outputs": [],
   "source": [
    "import matplotlib.pyplot as plt\n",
    "\n",
    "def cronograma(titulo, canales, leyendas, colores, dt = 0.2, dy = 0.2, escala = 1):\n",
    "    \"\"\"\n",
    "    Muestra señales digitales como cronogramas, comenzando con la primera\n",
    "    señal en la parte superior.\n",
    "    Recibe un título, la lista de canales, la lista de etiquetas,\n",
    "    el retardo de cambio, la separación entre canales, y el\n",
    "    factor de escala para la altura de la ventana de visualización. \n",
    "    \"\"\"\n",
    "\n",
    "    N = len(canales)        # N toma el número de listas en canales\n",
    "    T = len(canales[0])     # T toma el número de periodos de la primera lista en canales\n",
    "    t = tiempos(T, dt)      # t contiene la lista de tiempos\n",
    "\n",
    "    delta = N               # delta copia a N, el número de listas,\n",
    "                            # y se utiliza para desplazar las señales en el eje y\n",
    "\n",
    "    # crea una figura para la gráfica con tamaño\n",
    "    # proporcional al número de datos por canal (anchura)\n",
    "    # y número de canales (altura) con el factor de escala\n",
    "    plt.figure(figsize=(T, N*escala))\n",
    "\n",
    "\n",
    "    for lista in canales:               # para cada lista en canales\n",
    "        canal = lista[:]                    # una copia se asigna a canal\n",
    "        delta = delta - 1                   # delta disminuye en 1\n",
    "        for i in range(len(canal)):             # para cada índice de la lista canal\n",
    "            if canal[i] == 1:                       # si el elemento indizado es 1\n",
    "                canal[i] = canal[i] - dy                # se le disminuye en dy\n",
    "            canal[i] = canal[i] + delta             # agrega delta al elemento indizado \n",
    "\n",
    "        # grafica los datos duplicados de canal versus t\n",
    "        # con sus respectivos colores, desde 0 hasta N -1\n",
    "        plt.plot(t, duplica(canal), colores[N - delta - 1])         \n",
    "        \n",
    "       \n",
    "    # marcas en el eje y\n",
    "    y = [0]*(2*N)                   # y es una lista del doble número de canales en cero\n",
    "    for i in range(N):              # para cada índice i desde 0 hasta N - 1\n",
    "        y[2*i] = i                      # el elemento de y indizado por 2i     recibe el valor i, donde irá una marca 0\n",
    "        y[2*i + 1] = i + 1 - dy         # el elemento de y indizado por 2i + 1 recibe el valor i + 1 - dy, donde irá una marca 1\n",
    "\n",
    "    # marcas en el eje x\n",
    "    plt.yticks(y, [0, 1]*N)         # en las posiciones definidas por y se colocan marcas 0 y 1 alternadamente sobre el eje y\n",
    "    plt.xticks(range(0, T + 1))     # las posiciones desde 0 hasta T se marcan con los números desde 0 hasta T sobre el eje x\n",
    "    \n",
    "    plt.legend(leyendas, loc='best')    # etiquetas de las señales\n",
    "    plt.title(titulo)                   # título de la figura\n",
    "    plt.xlabel('tiempo')                # etiqueta del eje x\n",
    "    plt.ylabel('señales')               # etiqueta del eje y\n",
    "\n",
    "    plt.xlim([0, T])    # límites de los valores del eje x, entre 0 y T\n",
    "    plt.ylim([-dy, N])  # límites de los valores del eje y, entre -dy y N\n",
    "    \n",
    "    plt.grid()      # muestra una grilla\n",
    "    plt.show()      # muestra todos los gráficos"
   ]
  },
  {
   "cell_type": "code",
   "execution_count": null,
   "metadata": {},
   "outputs": [],
   "source": [
    "cronograma(\"Xor\",                                               # título \n",
    "           [[0, 0, 1, 1]*2, [0, 1, 0, 1]*2, [0, 1, 1, 0]*2],    # señales\n",
    "           ['a', 'b', 'xor'],                                   # etiquetas\n",
    "           ['blue', 'green', 'red'])                            # colores"
   ]
  },
  {
   "cell_type": "markdown",
   "metadata": {},
   "source": [
    "### Cronograma del sumador completo"
   ]
  },
  {
   "cell_type": "code",
   "execution_count": null,
   "metadata": {},
   "outputs": [],
   "source": [
    "def simular_sumador_completo():\n",
    "    \"\"\"Muestra la tabla y el cronograma de un sumador completo.\"\"\"\n",
    "\n",
    "    sumador = SumadorCompleto() # sumador es un objeto de tipo SumadorCompleto\n",
    "    a = [0]*4 + [1]*4           # a  : [0, 0, 0, 0, 1, 1, 1, 1]\n",
    "    b = ([0]*2 + [1]*2)*2       # b  : [0, 0, 1, 1, 0, 0, 1, 1]\n",
    "    ci = [0, 1]*4               # ci : [0, 1, 0, 1, 0, 1, 0, 1]\n",
    "\n",
    "    # recipientes para las salidas\n",
    "    co = [0]*8      # co : [0, 0, 0, 0, 0, 0, 0, 0]\n",
    "    s  = [0]*8      #  s : [0, 0, 0, 0, 0, 0, 0, 0]\n",
    "\n",
    "    for i in range(8):                      # para cada valor de i desde 0 hasta 7\n",
    "        sumador.entradas(a[i], b[i], ci[i])     # las entradas del sumador son los elementos de a, b y ci indizados por i\n",
    "        co[i], s[i] = sumador.salidas()         # las salidas se almacenan en los elementos de co y s indizados por i\n",
    "\n",
    "    # muestra las señales en el cronograma\n",
    "    cronograma(\"Sumador completo\",                              # título del gráfico \n",
    "               [a, b, ci, co, s],                               # lista de señales\n",
    "               ['a', 'b', 'cin', 'cout', 's'],                  # lista de nombres\n",
    "               ['blue', 'blue', 'green', 'orangered', 'orange'])  # lista de colores"
   ]
  },
  {
   "cell_type": "markdown",
   "metadata": {},
   "source": [
    "[Nombres de colores X11](https://en.wikipedia.org/wiki/X11_color_names)"
   ]
  },
  {
   "cell_type": "code",
   "execution_count": 109,
   "metadata": {},
   "outputs": [
    {
     "ename": "NameError",
     "evalue": "name 'simular_sumador_completo' is not defined",
     "output_type": "error",
     "traceback": [
      "\u001b[1;31m---------------------------------------------------------------------------\u001b[0m",
      "\u001b[1;31mNameError\u001b[0m                                 Traceback (most recent call last)",
      "\u001b[1;32m<ipython-input-109-f9cb4cbca25d>\u001b[0m in \u001b[0;36m<module>\u001b[1;34m\u001b[0m\n\u001b[1;32m----> 1\u001b[1;33m \u001b[0msimular_sumador_completo\u001b[0m\u001b[1;33m(\u001b[0m\u001b[1;33m)\u001b[0m\u001b[1;33m\u001b[0m\u001b[1;33m\u001b[0m\u001b[0m\n\u001b[0m",
      "\u001b[1;31mNameError\u001b[0m: name 'simular_sumador_completo' is not defined"
     ]
    }
   ],
   "source": [
    "simular_sumador_completo()"
   ]
  },
  {
   "cell_type": "markdown",
   "metadata": {},
   "source": [
    "<img src=\"linea.png\"><br>\n",
    "<a id='tarea5'></a>\n",
    "# [Tarea 5](#inicio)\n",
    "# Modelando circuitos estructural y funcionalmente\n",
    "<img src=\"linea.png\"><br>"
   ]
  },
  {
   "cell_type": "markdown",
   "metadata": {},
   "source": [
    "## 5.1 Funciones de conversión entre objetos"
   ]
  },
  {
   "cell_type": "markdown",
   "metadata": {},
   "source": [
    "### De número entero a lista de bits"
   ]
  },
  {
   "cell_type": "markdown",
   "metadata": {},
   "source": [
    "#### Algoritmo\n",
    "```python\n",
    "Recibe un número entero y número de bits\n",
    "Convierte el número a caracteres de ceros y unos\n",
    "Completa ceros desde la izquierda\n",
    "Crea una lista vacía\n",
    "Para cada caracter:\n",
    "    Convierte el caracter a entero y lo agrega a la lista\n",
    "Retorna la lista de bits\n",
    "```"
   ]
  },
  {
   "cell_type": "markdown",
   "metadata": {},
   "source": [
    "#### Función binario"
   ]
  },
  {
   "cell_type": "code",
   "execution_count": null,
   "metadata": {},
   "outputs": [],
   "source": [
    "def binario(entero, bits = 4):\n",
    "    \"\"\"\n",
    "    Recibe un número entero y retorna una lista\n",
    "    de bits representando al número binario equivalente.\n",
    "    binario(4)    -> [0, 1, 0, 0]\n",
    "    binario(4, 5) -> [0, 0, 1, 0, 0]\n",
    "    binario(4, 2) -> [1, 0, 0]\n",
    "    \"\"\"\n",
    "    \n",
    "    # esta función procesa números enteros\n",
    "    if type(entero) != int:\n",
    "        print(\"El argumento debe ser un entero.\")\n",
    "        return      # retorna sin ejecutar más instrucciones\n",
    "\n",
    "    s = \"{:b}\".format(entero)       # convierte un número a dígitos binarios como texto\n",
    "    s = s.zfill(bits)               # agrega ceros desde la izquierda hasta completar el número de bits solicitados\n",
    "\n",
    "    b = []                          # lista de bits, inicialmente vacía\n",
    "    for i in s:                     # para cada caracter en s\n",
    "        b.append(int(i))                # convierte el caracter a entero y lo agrega a la lista de bits        \n",
    "\n",
    "    # retorna la lista\n",
    "    return b"
   ]
  },
  {
   "cell_type": "code",
   "execution_count": null,
   "metadata": {},
   "outputs": [],
   "source": [
    "binario(4), binario(4, 5), binario(4, 2)"
   ]
  },
  {
   "cell_type": "markdown",
   "metadata": {},
   "source": [
    "### De lista de bits a número entero"
   ]
  },
  {
   "cell_type": "markdown",
   "metadata": {},
   "source": [
    "#### Algoritmo\n",
    "```python\n",
    "Recibe una lista de bits\n",
    "Inicializa un acumulador con el primer elemento de la secuencia\n",
    "Para cada elemento de la lista desde el segundo hasta el final\n",
    "    Duplica el acumulador, le agrega el elemento y asigna el resultado al acumulador\n",
    "Retorna el valor del acumulador\n",
    "```"
   ]
  },
  {
   "cell_type": "markdown",
   "metadata": {},
   "source": [
    "#### Función numero"
   ]
  },
  {
   "cell_type": "code",
   "execution_count": null,
   "metadata": {},
   "outputs": [],
   "source": [
    "def numero(lista):\n",
    "    \"\"\"\n",
    "    Convierte una lista de bits a número entero.\n",
    "    numero([0, 1, 0, 1])    -> 5\n",
    "    numero([1, 1, 1, 1, 0]) -> 30\n",
    "    \"\"\"\n",
    "\n",
    "    # esta función procesa listas\n",
    "    if type(lista) != list:\n",
    "        print(\"El argumento debe ser una lista.\")\n",
    "        return      # termina la ejecución de la función\n",
    "\n",
    "    n = lista[0]        # número acumulador, inicializado con el bit más significativo, el primero de la lista\n",
    "\n",
    "    for i in lista[1:]: # para cada elemento de la lista desde el segundo hasta el final\n",
    "        n = 2*n + i         # al doble del acumulador agrega el elemento de la lista y asigna el resultado al acumulador\n",
    "    \n",
    "    # retorna el número\n",
    "    return n"
   ]
  },
  {
   "cell_type": "code",
   "execution_count": null,
   "metadata": {},
   "outputs": [],
   "source": [
    "numero([0, 1, 0, 1]), numero([1, 1, 1, 1, 0])"
   ]
  },
  {
   "cell_type": "markdown",
   "metadata": {},
   "source": [
    "## 5.2 Sumador de números de 3 bits\n",
    "<img src=\"sumador3bits.png\"><br>"
   ]
  },
  {
   "cell_type": "markdown",
   "metadata": {},
   "source": [
    "### Clase Sumador3bits"
   ]
  },
  {
   "cell_type": "code",
   "execution_count": null,
   "metadata": {},
   "outputs": [],
   "source": [
    "class Sumador3bits:\n",
    "    \"\"\"Modelo de un sumador de números de tres bits.\"\"\"\n",
    "\n",
    "    def __init__(self, modelo = \"estructural\"):\n",
    "        \"\"\"Inicializa todos los valores en cero.\"\"\"\n",
    "        self.modelo = modelo\n",
    "\n",
    "        if self.modelo == \"estructural\":\n",
    "            # crea tres objetos de tipo SumadorComleto\n",
    "            self.sc1 = SumadorCompleto()\n",
    "            self.sc2 = SumadorCompleto()\n",
    "            self.sc3 = SumadorCompleto()\n",
    "\n",
    "        # llama al método entradas con todos los bits en cero.\n",
    "        self.entradas([[0, 0, 0], [0, 0, 0], 0])\n",
    "        \n",
    "    def entradas(self, lista):\n",
    "        \"\"\"Recibe las entradas y determina las salidas.\"\"\"\n",
    "        # asigna las entradas a los objetos internos\n",
    "        self.a = lista[0]\n",
    "        self.b = lista[1]\n",
    "        self.ci = lista[2]\n",
    "        \n",
    "        # selecciona el método para calcular las salidas\n",
    "        # de acuerdo al valor del modelo\n",
    "        if self.modelo == \"estructural\":\n",
    "            self.circuito()\n",
    "        else:\n",
    "            self.funcion()\n",
    "        \n",
    "    def funcion(self):\n",
    "        \"\"\"Calcula las salidas sumando y separando números.\"\"\"\n",
    "        \n",
    "        suma = numero(self.a) + numero(self.b) + self.ci    # suma los números\n",
    "        self.co = suma // 8                                 # extrae el cociente\n",
    "        self.s = binario(suma % 8, 3)                       # extrae la suma de tres bits\n",
    "\n",
    "    def circuito(self):\n",
    "        \"\"\"Modela un circuito estructuralmente.\"\"\"\n",
    "\n",
    "        self.sc1.entradas(self.a[2], self.b[2], self.ci)    # entradas del sumador de menor peso\n",
    "        co1, s1 = self.sc1.salidas()                        # con salidas asignadas a co1 y s1 \n",
    "\n",
    "        self.sc2.entradas(self.a[1], self.b[1], co1)        # entradas del segundo sumador\n",
    "        co2, s2 = self.sc2.salidas()                        # con salidas asignadas a co21 y s2 \n",
    "        \n",
    "        self.sc3.entradas(self.a[0], self.b[0], co2)        # entradas del sumador de mayor peso\n",
    "        self.co, s3 = self.sc3.salidas()                    # con salidas asignadas a self.co y s3 \n",
    "        \n",
    "        self.s = [s3, s2, s1]       # la salida self.s se forma con tres bits\n",
    "\n",
    "    def salidas(self):\n",
    "        return self.co, self.s"
   ]
  },
  {
   "cell_type": "code",
   "execution_count": null,
   "metadata": {},
   "outputs": [],
   "source": [
    "def verificar_sumador3bits():\n",
    "    \"\"\"Verifica que los modelos del sumador provean las mismas respuestas.\"\"\"\n",
    "    \n",
    "    z1 = Sumador3bits(\"estructural\")\n",
    "    z2 = Sumador3bits(\"funcional\")\n",
    "\n",
    "    errores = 0\n",
    "\n",
    "    for n in range(128):\n",
    "        bits = binario(n, 7)        # convierte el número n en lista de 7 bits\n",
    "        a = bits[0:3]               # a toma los tres primeros,   0 1 2\n",
    "        b = bits[3:6]               # b toma los tres siguientes, 3 4 5\n",
    "        ci = bits[6]                # c toma el séptimo bit           6\n",
    "\n",
    "        # ambos modelos reciben las mismas entradas\n",
    "        z1.entradas([a, b, ci])\n",
    "        z2.entradas([a, b, ci])\n",
    "        \n",
    "        # cada salida se almacena en objetos diferentes\n",
    "        s1 = z1.salidas()\n",
    "        s2 = z2.salidas()\n",
    "        \n",
    "        # compara los acarreos y las salidas\n",
    "        if s1 != s2:\n",
    "            errores += 1\n",
    "            if errores == 1:\n",
    "                print(\"### Depurar casos: ------------------------------\")\n",
    "                print(\"                           estructural      funcional\")\n",
    "                print(\"    a         b     ci    co     s        co     s\")\n",
    "            print(\"{} {} {}    {}  {}\".format(bits[0:3], bits[3:6], bits[6], s1, s2))\n",
    "\n",
    "    if errores == 0:\n",
    "        print(\"Éxito, todos los casos coincidieron.\")"
   ]
  },
  {
   "cell_type": "code",
   "execution_count": null,
   "metadata": {},
   "outputs": [],
   "source": [
    "verificar_sumador3bits()"
   ]
  },
  {
   "cell_type": "markdown",
   "metadata": {},
   "source": [
    "## 5.3 Registro de 3 bits\n",
    "<img src=\"registro3bits.png\"><br>"
   ]
  },
  {
   "cell_type": "code",
   "execution_count": null,
   "metadata": {},
   "outputs": [],
   "source": [
    "class Registro3bits:\n",
    "    \"\"\"Modelo de un registro de 3 bits.\"\"\"\n",
    "\n",
    "    def __init__(self, modelo = \"estructural\"):\n",
    "        \"\"\"Recibe un modelo e inicializa sus tres entradas y su salida.\"\"\"\n",
    "        \n",
    "        self.modelo = modelo\n",
    "        self.q = [0]*3\n",
    "        \n",
    "        if self.modelo == \"estructural\":\n",
    "            # crea una lista de registros\n",
    "            self.registro = [Registro(), Registro(), Registro()]\n",
    "        else:\n",
    "            self.d = [0]*3\n",
    "            self.reloj = 0\n",
    "            self.habilitador = 0\n",
    "\n",
    "        self.entradas(0, 0, [0]*3)\n",
    "\n",
    "    def entradas(self, reloj, habilitador, d):\n",
    "        \"\"\"Recibe las entradas y utiliza el modelo seleccionado.\"\"\"\n",
    "        \n",
    "        if self.modelo == \"estructural\":\n",
    "            self.circuito(reloj, habilitador, d)\n",
    "        else:\n",
    "            self.funcion(reloj, habilitador, d)\n",
    "\n",
    "    def funcion(self, reloj, habilitador, d):\n",
    "        \"\"\"Procesa datos algorítmicamente.\"\"\"\n",
    "        \n",
    "        if self.reloj == 0 and reloj == 1 and self.habilitador == 1:\n",
    "            self.q = self.d\n",
    "        \n",
    "        self.d = d\n",
    "        self.reloj = reloj\n",
    "        self.habilitador = habilitador\n",
    "\n",
    "    def circuito(self, reloj, habilitador, d):\n",
    "        \"\"\"Procesa datos estructuralmente.\"\"\"\n",
    "        \n",
    "        # maneja los registros individuales en paralelo.\n",
    "        for i in range(3):\n",
    "            self.registro[i].entradas(reloj, habilitador, d[i])\n",
    "            self.q[i] = self.registro[i].salida()\n",
    "        # self.q[0] = 0     # provoca diferencias con el modelo funcional\n",
    "\n",
    "    def salidas(self):\n",
    "        \"\"\"Retorna la salida.\"\"\"\n",
    "        return self.q"
   ]
  },
  {
   "cell_type": "markdown",
   "metadata": {},
   "source": [
    "### Simulación"
   ]
  },
  {
   "cell_type": "code",
   "execution_count": null,
   "metadata": {},
   "outputs": [],
   "source": [
    "def simular_registros3bits():\n",
    "    \"\"\"\n",
    "    Muestra un cronograma para los modelos del registro de tres bits.\n",
    "    \"\"\"\n",
    "    \n",
    "    # crea los dos modelos de registro\n",
    "    estructural = Registro3bits()\n",
    "    funcional = Registro3bits(\"funcional\")\n",
    "\n",
    "    # patrones o vectores de entrada\n",
    "    N = 8\n",
    "    d2, d1, d0 = [0]*N, [0]*N, [0]*N\n",
    "    for i in range(N):\n",
    "        bits = binario(i, 3)\n",
    "        d2[i] = bits[0]\n",
    "        d1[i] = bits[1]\n",
    "        d0[i] = bits[2]\n",
    "\n",
    "    reloj = [0, 1]*N        # cambia a [1, 0]*N y nota la diferencia en la captura de datos.\n",
    "\n",
    "    # duplica los valores para mostrar el mismo dato en cada ciclo de reloj\n",
    "    d2 = duplica(d2)\n",
    "    d1 = duplica(d1)\n",
    "    d0 = duplica(d0)\n",
    "\n",
    "    hab   = [1]*2*N\n",
    "\n",
    "    # recipientes para las salidas\n",
    "    e2, e1, e0 = [0]*2*N, [0]*2*N, [0]*2*N\n",
    "    f2, f1, f0 = [0]*2*N, [0]*2*N, [0]*2*N\n",
    "\n",
    "    # rango de simulación\n",
    "    for i in range(2*N):\n",
    "        # entradas de los circuitos\n",
    "        d = [d2[i], d1[i], d0[i]]       # tres bits de entrada\n",
    "        estructural.entradas(reloj[i], hab[i], d)\n",
    "        funcional.entradas(reloj[i], hab[i], d)\n",
    "        # salidas\n",
    "        e2[i], e1[i], e0[i] = estructural.salidas()\n",
    "        f2[i], f1[i], f0[i] = funcional.salidas()\n",
    "\n",
    "    # visualización\n",
    "    cronograma(\"Registro de tres bits\", \n",
    "               [hab, d2, d1, d0, reloj, e2, e1, e0, f2, f1, f0],\n",
    "               ['hab', 'd2', 'd1', 'd0', 'reloj', \n",
    "                'e2', 'e1', 'e0', 'f2', 'f1', 'f0'],\n",
    "               ['red', 'blue', 'blue', 'blue', 'orangered', \n",
    "                'green', 'green', 'green', 'orange', 'orange', 'orange'],\n",
    "              escala = 0.6)"
   ]
  },
  {
   "cell_type": "code",
   "execution_count": null,
   "metadata": {},
   "outputs": [],
   "source": [
    "simular_registros3bits()"
   ]
  },
  {
   "cell_type": "markdown",
   "metadata": {},
   "source": [
    "<img src=\"linea.png\"><br>\n",
    "<a id='tarea6'></a>\n",
    "# [Tarea 6](#inicio)\n",
    "# Modelando un contador\n",
    "<img src=\"linea.png\"><br>"
   ]
  },
  {
   "cell_type": "markdown",
   "metadata": {},
   "source": [
    "## 6.1 Contador de 3 bits\n",
    "<img src=\"contador3bits.png\"><br>"
   ]
  },
  {
   "cell_type": "code",
   "execution_count": null,
   "metadata": {},
   "outputs": [],
   "source": [
    "class Contador3bits:\n",
    "    \"\"\"Modelo de un contador de tres bits.\"\"\"\n",
    "\n",
    "    def __init__(self, modelo = \"estructural\"):\n",
    "        \"\"\"Recibe un modelo e inicializa los valores de los objetos en cero.\"\"\"\n",
    "        self.q = [0]*3\n",
    "\n",
    "        self.modelo = modelo\n",
    "        if self.modelo == \"estructural\":\n",
    "            self.registro = Registro3bits()\n",
    "            self.sumador = Sumador3bits()\n",
    "        else:\n",
    "            self.reloj = 0\n",
    "            self.habilitador = 0\n",
    "        \n",
    "        self.entradas([0, 0])\n",
    "        \n",
    "    def entradas(self, lista):\n",
    "        \"\"\"\n",
    "        Recibe una lista de entradas y selecciona el método \n",
    "        de procesamiento de acuerdo al modelo.\n",
    "        \"\"\"\n",
    "        if self.modelo == \"estructural\":\n",
    "            self.circuito(lista)\n",
    "        else:\n",
    "            self.funcion(lista)\n",
    "\n",
    "    def funcion(self, lista):\n",
    "        \"\"\"Procesa las señales algorítmicamente.\"\"\"\n",
    "        \n",
    "        reloj = lista[0]\n",
    "        habilitador = lista[1]\n",
    "\n",
    "        if self.reloj == 0 and reloj == 1 and self.habilitador == 1:\n",
    "            n = numero(self.q)      # n es q convertido a entero\n",
    "            if n == 7:              # si n es 7\n",
    "                n = 0                   # pasa a ser 0\n",
    "            else:                   # sino\n",
    "                n = n + 1               # incrementa en uno\n",
    "                \n",
    "            self.q = binario(n, 3)  # actualiza la salida con n convertido a binario de tres bits\n",
    "            \n",
    "            #if n == 7:           # quitar comentarios para provocar errores\n",
    "            #    self.q[0] = 0\n",
    "        \n",
    "        self.reloj = reloj\n",
    "        self.habilitador = habilitador\n",
    "\n",
    "    def circuito(self, lista):\n",
    "        \"\"\"Define un circuito con un registro y un sumador de tres bits.\"\"\"\n",
    "        \n",
    "        reloj = lista[0]\n",
    "        habilitador = lista[1]\n",
    "\n",
    "        self.sumador.entradas([self.q, [0, 0, 1], 0])   # sumador con entradas q, 1 y 0\n",
    "        c, d = self.sumador.salidas()                   # acarreo para c, suma para d\n",
    "        self.registro.entradas(reloj, habilitador, d)   # registro con entrada de datos d\n",
    "        self.q = self.registro.salidas()                # salida para q\n",
    "\n",
    "    def salidas(self):\n",
    "        \"\"\"Retorna la cuenta q.\"\"\"\n",
    "        return self.q"
   ]
  },
  {
   "cell_type": "markdown",
   "metadata": {},
   "source": [
    "### Función verificar"
   ]
  },
  {
   "cell_type": "code",
   "execution_count": null,
   "metadata": {},
   "outputs": [],
   "source": [
    "def verificar(modelo1, modelo2, vectores):\n",
    "    \"\"\"\n",
    "    Recibe dos circuitos, modelo1 y modelo2, y compara sus salidas\n",
    "    utilizando las entradas provistas como listas en el objeto vectores.\n",
    "    Los circuitos deben tener métodos entradas que recibre una lista\n",
    "    de entradas y métodos salidas que retornan las respuestas de\n",
    "    los circuitos.\"\"\"\n",
    "    \n",
    "    \n",
    "    # convierte los N vectores de E elementos a una lista de tamaño E de listas de tamaño N\n",
    "    # ------------------------------------------------\n",
    "    # [a, b, c], [A, B, C] -> [[a, A], [b, B], [c, C]]           vectores -> casos\n",
    "    #\n",
    "    # a b c         a A\n",
    "    # A B C     ->  b B\n",
    "    #               c C\n",
    "    # ------------------------------------------------\n",
    "    N = len(vectores)       # N es el número de listas en vectores\n",
    "    E = len(vectores[0])    # E es el número de datos por cada lista en vectores\n",
    "    casos = []\n",
    "    # agrega E listas con N elementos en 0\n",
    "    for i in range(E):          \n",
    "        casos.append([0]*N)\n",
    "\n",
    "    # copia los elementos de las listas de vectores\n",
    "    # en las listas de casos, intercambiando índices\n",
    "    for i in range(N):                      \n",
    "        for j in range(E):\n",
    "            casos[j][i] = vectores[i][j]\n",
    "\n",
    "    errores = 0\n",
    "\n",
    "    print(\"caso - modelo 1 - modelo 2)\")\n",
    "    for i in casos:\n",
    "        modelo1.entradas(i)\n",
    "        modelo2.entradas(i)\n",
    "        \n",
    "        # compara las salidas del modelo con las salidas esperadas\n",
    "        print(\"{} {} {}\".format(i, modelo1.salidas(), modelo2.salidas()), end = \"\")\n",
    "        if modelo1.salidas() != modelo2.salidas():\n",
    "            errores += 1\n",
    "            print(\" depurar \")\n",
    "        else:\n",
    "            print()"
   ]
  },
  {
   "cell_type": "code",
   "execution_count": null,
   "metadata": {},
   "outputs": [],
   "source": [
    "ciclos = 10\n",
    "reloj = [0, 1]*ciclos\n",
    "habilitador = [1]*2*ciclos\n",
    "verificar(Contador3bits(), Contador3bits(\"funcional\"), [reloj, habilitador])"
   ]
  },
  {
   "cell_type": "markdown",
   "metadata": {},
   "source": [
    "### Validación de modelos"
   ]
  },
  {
   "cell_type": "code",
   "execution_count": null,
   "metadata": {},
   "outputs": [],
   "source": [
    "def simular_contador3bits(contador, ciclos):\n",
    "    \"\"\"\n",
    "    Muestra el cronograma de un contador.\n",
    "    Recibe el contador y el número de ciclos de reloj.\n",
    "    \"\"\"\n",
    "\n",
    "    # patrones o vectores de entrada\n",
    "    reloj = [0, 1]*ciclos\n",
    "    N = 2*ciclos\n",
    "    habilitador = [1]*N\n",
    "    \n",
    "    errores = 0    # para llevar la cuenta de resultados diferentes\n",
    "\n",
    "    # listas recipientes para las salidas\n",
    "    q2, q1, q0 = [0]*N, [0]*N, [0]*N  # del contador estructural\n",
    "\n",
    "    # N periodos de simulación\n",
    "    for i in range(N):\n",
    "\n",
    "        # las posiciones i de las listas reloj y habilitador\n",
    "        # son las entraddas de reloj y habilitador de los contadores\n",
    "        clock = reloj[i]\n",
    "        enable = habilitador[i]\n",
    "        contador.entradas([clock, enable])\n",
    "\n",
    "        # las salidas de cada contador se almacenan en\n",
    "        # las posiciones indizadas de las listas recipientes\n",
    "        q2[i], q1[i], q0[i] = contador.salidas()\n",
    "\n",
    "    cronograma(\"Contador de tres bits\",                     # título de la gráfica\n",
    "               [reloj, q2, q1, q0],                         # lista de canales\n",
    "               ['reloj', 'q2', 'q1', 'q0'],                 # etiquetas de los canales\n",
    "               ['orangered', 'green', 'green', 'green'],    # colores de las señales\n",
    "               dt = 0.1)         # tiempo de cambio de nivel lógico"
   ]
  },
  {
   "cell_type": "code",
   "execution_count": null,
   "metadata": {},
   "outputs": [],
   "source": [
    "simular_contador3bits(Contador3bits(), 10)"
   ]
  },
  {
   "cell_type": "markdown",
   "metadata": {},
   "source": [
    "<img src=\"linea.png\"><br>\n",
    "<a id='tarea7'></a>\n",
    "# [Tarea 7](#inicio)\n",
    "# Modelando un semáforo\n",
    "<img src=\"linea.png\"><br>"
   ]
  },
  {
   "cell_type": "markdown",
   "metadata": {},
   "source": [
    "<img src=\"semaforo.png\"><br>"
   ]
  },
  {
   "cell_type": "code",
   "execution_count": null,
   "metadata": {},
   "outputs": [],
   "source": [
    "class Semaforo:\n",
    "    \"\"\"\n",
    "    Modela un semáforo de cuatro estados con periodos\n",
    "    3T, T, 3T y T. Las salidas son dos grupos de \n",
    "    tres luces de colores rojo, ámbar y verde.\n",
    "    \"\"\"\n",
    "\n",
    "    def __init__(self, modelo = \"estructural\"):\n",
    "        \"\"\"Recibe un modeo e inicializa los valores de los objetos.\"\"\"\n",
    "        self.a = [1, 0, 0]\n",
    "        self.b = [0, 0, 1]\n",
    "        self.modelo = modelo\n",
    "        if self.modelo == \"estructural\":\n",
    "            # contador de tres bits\n",
    "            self.contador = Contador3bits()\n",
    "            # dos puertas Not\n",
    "            self.not1, self.not2 = Not(), Not()\n",
    "            # cinco puertas And\n",
    "            self.and1, self.and2 = And(), And()\n",
    "            self.and3, self.and4 = And(), And()\n",
    "            self.and5 = And()\n",
    "        else:\n",
    "            self.reloj = 0\n",
    "            self.q = [0, 0, 0]\n",
    "\n",
    "        self.entradas([0])\n",
    "        \n",
    "    def entradas(self, lista):\n",
    "        \"\"\"Selecciona el modelo para procesar las señales.\"\"\"\n",
    "        if self.modelo == \"estructural\":\n",
    "            self.circuito(lista)\n",
    "        else:\n",
    "            self.funcion(lista)\n",
    "        \n",
    "    def funcion(self, lista):\n",
    "        \"\"\"Procesa las señales algorítmicamente.\"\"\"\n",
    "        \n",
    "        reloj = lista[0]\n",
    "        if self.reloj == 0 and reloj == 1:\n",
    "            n = numero(self.q) + 1      # n es la lista de tres bits convertida a entero incrementado en 1\n",
    "            if n == 8:                  # si n es 8\n",
    "                n = 0                       # se vuelve 0\n",
    "            self.q = binario(n, 3)      # la cuenta convierte n en lista de tres bits\n",
    "\n",
    "        # asegura que n sea el valor actual de q\n",
    "        n = numero(self.q)\n",
    "        # Si n es 0, 1 o 2, los tiempos del primer estado de luces\n",
    "        if n < 3:                                   #   A      B\n",
    "            # activa el Rojo de A y el Verde de B\n",
    "            self.a, self.b = [1, 0, 0], [0, 0, 1]   # ROJO   VERDE\n",
    "        # Si n es 3, segundo estado\n",
    "        elif n == 3:\n",
    "            self.a, self.b = [1, 0, 0], [0, 1, 0]   # ROJO   AMBAR\n",
    "        # Si n es 4, 5 o 6, tercer estado\n",
    "        elif n < 7:\n",
    "            self.a, self.b = [0, 0, 1], [1, 0, 0]   # VERDE  ROJO\n",
    "        # Si n es 7, cuarto estado\n",
    "        else:\n",
    "            self.a, self.b = [0, 1, 0], [1, 0, 0]   # AMBAR  ROJO\n",
    "            \n",
    "        self.reloj = reloj\n",
    "\n",
    "    def circuito(self, lista):\n",
    "        \"\"\"Utiliza un modelo de circuito para procesar las señales.\"\"\"\n",
    "        ROJO, AMBAR, VERDE = 0, 1, 2                # índices para las luces\n",
    "\n",
    "        reloj = lista[0]\n",
    "        \n",
    "        self.contador.entradas([reloj, 1])            # contador con entradas reloj y 1 (habilitado)\n",
    "        q = self.contador.salidas()                  # q es una lista de tres bits, q[0], q[1], q[2]\n",
    "\n",
    "        self.not1.entrada(q[0])                     # not1 tiene entrada q[0]\n",
    "        self.a[ROJO] = self.not1.salida()           # la salida de not1 controla la luz roja de A\n",
    "        \n",
    "        self.b[ROJO] = q[0]                         # El bit q[0] maneja la luz roja de B\n",
    "\n",
    "        self.and1.entradas(q[1], q[2])              # las entradas de and1 son q[1] y q[2]\n",
    "        nodo1 = self.and1.salida()                  # nodo1 recibe la salida de and1\n",
    "        \n",
    "        self.not2.entrada(nodo1)                    # not2 tiene a nodo1 de entrada\n",
    "        nodo2 = self.not2.salida()                  # y su salida va a nodo2\n",
    "        \n",
    "        self.and2.entradas(q[0], nodo2)             # and2 tiene entradas q[0] y nodo2\n",
    "        self.a[VERDE] = self.and2.salida()          # y su salida controla la luz verde de A\n",
    "        \n",
    "        self.and3.entradas(self.a[ROJO], nodo2)     # and3 tiene de entradas a la luz roja de A y a nodo2\n",
    "        self.b[VERDE] = self.and3.salida()          # y su salida maneja la luz verde de B\n",
    "        \n",
    "        self.and4.entradas(self.a[ROJO], nodo1)     # and4 toma como entradas la luz roja de A y el nodo2\n",
    "        self.b[AMBAR] = self.and4.salida()          # y su salida maneja la luz ámbar de B\n",
    "        \n",
    "        self.and5.entradas(q[0], nodo1)             # and5 tiene entradas q[0] y nodo1\n",
    "\n",
    "        # self.and5.entradas(q[0], 0)  # quitar el comentario para provocar error en la depuración\n",
    "        \n",
    "        self.a[AMBAR] = self.and5.salida()          # y su salida controla la luz ámbar de A\n",
    "    \n",
    "    def salidas(self):\n",
    "        \"\"\"Retornas dos listas representando el estado de las luces.\"\"\"\n",
    "        return self.a, self.b"
   ]
  },
  {
   "cell_type": "markdown",
   "metadata": {},
   "source": [
    "### Verificación de los modelos"
   ]
  },
  {
   "cell_type": "code",
   "execution_count": null,
   "metadata": {},
   "outputs": [],
   "source": [
    "reloj = [0, 1]*ciclos\n",
    "verificar(Semaforo(), Semaforo(\"funcional\"), [reloj])"
   ]
  },
  {
   "cell_type": "markdown",
   "metadata": {},
   "source": [
    "### Simulación del modelo estructural"
   ]
  },
  {
   "cell_type": "code",
   "execution_count": null,
   "metadata": {},
   "outputs": [],
   "source": [
    "def simular_semaforo(semaforo, N):\n",
    "    \"\"\"Simulación del semáforo para visualización de las señales en un cronograma.\n",
    "    Recibe el número de periodos de simulación.\"\"\"\n",
    "    \n",
    "    # listas de datos, con N elementos en cero,\n",
    "    # para el reloj y las seis luces\n",
    "    temporizador = [0]*N\n",
    "    rojoA, ambarA, verdeA = [0]*N, [0]*N, [0]*N\n",
    "    rojoB, ambarB, verdeB = [0]*N, [0]*N, [0]*N\n",
    "\n",
    "    reloj = 0       # señal de reloj\n",
    "\n",
    "    for i in range(N):\n",
    "        # entradas y salidas del semáforo\n",
    "        semaforo.entradas([reloj])\n",
    "        p, q = semaforo.salidas()\n",
    "\n",
    "        # registra los datos para el cronograma\n",
    "        temporizador[i] = reloj\n",
    "        rojoA[i], ambarA[i], verdeA[i] = p[0], p[1], p[2]\n",
    "        rojoB[i], ambarB[i], verdeB[i] = q[0], q[1], q[2]\n",
    "\n",
    "        # cambia el estado del reloj\n",
    "        reloj = 1 - reloj\n",
    "\n",
    "    # muestra las señales\n",
    "    cronograma(\"Semáforo\", \n",
    "               [temporizador, rojoA, ambarA, verdeA, rojoB, ambarB, verdeB],\n",
    "               ['reloj', 'Rojo A', 'Ambar A', 'Verde A', 'Rojo B', 'Ambar B', 'Verde B'],\n",
    "               ['blue', 'red', 'orange', 'green', 'red', 'orangered', 'green'], escala = 1)"
   ]
  },
  {
   "cell_type": "code",
   "execution_count": null,
   "metadata": {},
   "outputs": [],
   "source": [
    "simular_semaforo(Semaforo(), 20)"
   ]
  },
  {
   "cell_type": "markdown",
   "metadata": {},
   "source": [
    "<img src=\"linea.png\"><br>\n",
    "<a id='tarea8'></a>\n",
    "# [Tarea 8](#inicio)\n",
    "# Creando una biblioteca de modelos\n",
    "<img src=\"linea.png\"><br>"
   ]
  },
  {
   "cell_type": "markdown",
   "metadata": {},
   "source": [
    "## 8.1 Creando un módulo Python\n",
    "\n",
    "- En un archivo de texto insertar las funciones y clases.\n",
    "- Agregar un comentario de tres comillas al inicio del archivo.\n",
    "- Guardar el archivo con un nombre y extensión py. En este caso circuitos.py"
   ]
  },
  {
   "cell_type": "markdown",
   "metadata": {},
   "source": [
    "## 8.2 Utilizando el módulo\n",
    "### Importando el módulo"
   ]
  },
  {
   "cell_type": "code",
   "execution_count": null,
   "metadata": {},
   "outputs": [],
   "source": [
    "import circuitos"
   ]
  },
  {
   "cell_type": "markdown",
   "metadata": {},
   "source": [
    "### Consultando la documentación"
   ]
  },
  {
   "cell_type": "code",
   "execution_count": null,
   "metadata": {},
   "outputs": [],
   "source": [
    "help(circuitos)"
   ]
  },
  {
   "cell_type": "markdown",
   "metadata": {},
   "source": [
    "### Utilizando las funciones y clases"
   ]
  },
  {
   "cell_type": "code",
   "execution_count": null,
   "metadata": {},
   "outputs": [],
   "source": [
    "x = circuitos.And()\n",
    "x.salida()"
   ]
  },
  {
   "cell_type": "markdown",
   "metadata": {},
   "source": [
    "### Importando las funciones y clases directamente"
   ]
  },
  {
   "cell_type": "code",
   "execution_count": null,
   "metadata": {},
   "outputs": [],
   "source": [
    "from circuitos import *"
   ]
  },
  {
   "cell_type": "code",
   "execution_count": null,
   "metadata": {},
   "outputs": [],
   "source": [
    "from circuitos import Semaforo"
   ]
  },
  {
   "cell_type": "code",
   "execution_count": null,
   "metadata": {},
   "outputs": [],
   "source": [
    "def simulacion_textual():\n",
    "    \"\"\"Muestra los nombres de las luces encendidas en cada estado.\"\"\"\n",
    "\n",
    "    semaforo = Semaforo()\n",
    "    reloj = 0\n",
    "    luz = ['ROJO', 'AMBAR', 'VERDE']\n",
    "    print('ciclo   A       B   reloj')\n",
    "    for t in range(20):\n",
    "        \n",
    "        semaforo.entradas([reloj])\n",
    "        \n",
    "        a, b = semaforo.salidas()\n",
    "\n",
    "        for i in range(3):\n",
    "            if a[i] == 1:\n",
    "                indice1 = i\n",
    "                break               # si se encontró un 1 no es necesario seguir iterando la lista\n",
    "\n",
    "        for i in range(3):\n",
    "            if b[i] == 1:\n",
    "                indice2 = i\n",
    "                break\n",
    "\n",
    "        print(\"{:3}   {:5} - {:5}   {}\".format(t//2 + 1, luz[indice1], luz[indice2], reloj))\n",
    "        \n",
    "        reloj = int(not reloj)"
   ]
  },
  {
   "cell_type": "code",
   "execution_count": null,
   "metadata": {},
   "outputs": [],
   "source": [
    "simulacion_textual()"
   ]
  },
  {
   "cell_type": "code",
   "execution_count": null,
   "metadata": {},
   "outputs": [],
   "source": [
    "print(\"¡Muchas gracias!\")"
   ]
  },
  {
   "cell_type": "code",
   "execution_count": null,
   "metadata": {},
   "outputs": [],
   "source": []
  }
 ],
 "metadata": {
  "kernelspec": {
   "display_name": "Python 3",
   "language": "python",
   "name": "python3"
  },
  "language_info": {
   "codemirror_mode": {
    "name": "ipython",
    "version": 3
   },
   "file_extension": ".py",
   "mimetype": "text/x-python",
   "name": "python",
   "nbconvert_exporter": "python",
   "pygments_lexer": "ipython3",
   "version": "3.7.4"
  }
 },
 "nbformat": 4,
 "nbformat_minor": 2
}
